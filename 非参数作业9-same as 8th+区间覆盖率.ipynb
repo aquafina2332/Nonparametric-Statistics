{
 "cells": [
  {
   "cell_type": "markdown",
   "id": "5b41f4d8",
   "metadata": {},
   "source": [
    "### 2.11"
   ]
  },
  {
   "cell_type": "code",
   "execution_count": 32,
   "id": "fb30f95f",
   "metadata": {
    "vscode": {
     "languageId": "r"
    }
   },
   "outputs": [
    {
     "name": "stdout",
     "output_type": "stream",
     "text": [
      "[1] \"参数真实值为：148.41 \"\n",
      "[1] \"枢轴量方法的置信区间：(133.54 , 197.63)\"\n",
      "[1] \"枢轴量方法的标准差：0.10 \"\n"
     ]
    }
   ],
   "source": [
    "set.seed(123) # 设置随机种子\n",
    "x = rnorm(n=100,mean=5,sd=1) # 生成随机数\n",
    "theta = exp(5)\n",
    "print(sprintf('参数真实值为：%0.2f ',theta))\n",
    "\n",
    "# 用枢轴量方法获得参数的0.95置信区间和标准差\n",
    "alpha = 0.05\n",
    "n = length(x)\n",
    "sigma = 1\n",
    "meanx = mean(x)\n",
    "u1 = qnorm(1-alpha/2,0,1)\n",
    "u2 = qnorm(1-alpha,0,1)\n",
    "mu1 = meanx - u1*sigma/sqrt(n)\n",
    "mu2 = meanx + u1*sigma/sqrt(n)\n",
    "mu1 = exp(mu1)\n",
    "mu2 = exp(mu2)\n",
    "print(sprintf('枢轴量方法的置信区间：(%0.2f , %0.2f)',mu1,mu2))\n",
    "\n",
    "sd = sigma/sqrt(n)\n",
    "print(sprintf('枢轴量方法的标准差：%0.2f ',sd))"
   ]
  },
  {
   "cell_type": "code",
   "execution_count": 33,
   "id": "d6b1a8c7",
   "metadata": {
    "vscode": {
     "languageId": "r"
    }
   },
   "outputs": [
    {
     "name": "stdout",
     "output_type": "stream",
     "text": [
      "[1] \"参数Bootstrap方法的置信区间：(147.29 , 201.98)\"\n",
      "[1] \"参数Bootstrap方法的标准差：14.26 \"\n"
     ]
    },
    {
     "data": {
      "image/png": "[encoded data removed]",
      "text/plain": [
       "Plot with title \"Histogram of TBoot\""
      ]
     },
     "metadata": {
      "image/png": {
       "height": 420,
       "width": 420
      }
     },
     "output_type": "display_data"
    }
   ],
   "source": [
    "# 用参数Bootstrap方法获得参数的0.95置信区间和标准差\n",
    "TBoot = NULL\n",
    "B = 1000 # 次数\n",
    "SD.x = NULL\n",
    "for (i in 1:B){ \n",
    "    Xsample = rnorm(n=100,mean=5,sd=1) # 这个地方难以从整体上固定随机种子\n",
    "    Tboot = exp(mean(Xsample))\n",
    "    TBoot = c(TBoot,Tboot)\n",
    "    SD.x = c(SD.x,sd(TBoot))\n",
    "}\n",
    "SD.theta.x = sd(TBoot)\n",
    "# plot(1:B,SD.x,col = 4)\n",
    "hist(TBoot, col = 3) \n",
    "\n",
    "x.theta = exp(mean(x))\n",
    "low1 = 2*x.theta-quantile(TBoot,1-alpha/2) # 枢轴量方法\n",
    "up1 = 2*x.theta-quantile(TBoot,alpha/2)\n",
    "print(sprintf('参数Bootstrap方法的置信区间：(%0.2f , %0.2f)',low1,up1))\n",
    "\n",
    "sd1 = sd(TBoot)\n",
    "print(sprintf('参数Bootstrap方法的标准差：%0.2f ',sd1))"
   ]
  },
  {
   "cell_type": "code",
   "execution_count": 34,
   "id": "88985181",
   "metadata": {
    "vscode": {
     "languageId": "r"
    }
   },
   "outputs": [
    {
     "name": "stdout",
     "output_type": "stream",
     "text": [
      "[1] \"非参数Bootstrap方法的置信区间：(42.65 , 231.92)\"\n",
      "[1] \"非参数Bootstrap方法的标准差：48.05 \"\n"
     ]
    },
    {
     "data": {
      "image/png": "[encoded data removed]",
      "text/plain": [
       "Plot with title \"Histogram of TBoot\""
      ]
     },
     "metadata": {
      "image/png": {
       "height": 420,
       "width": 420
      }
     },
     "output_type": "display_data"
    }
   ],
   "source": [
    "# 用非参数Bootstrap方法获得参数的0.95置信区间和标准差\n",
    "TBoot = NULL\n",
    "n = 10 # 每次bootstrap的样本量\n",
    "B = 1000 # 次数\n",
    "SD.x = NULL\n",
    "for (i in 1:B){\n",
    "    Xsample = sample(x, n, T)\n",
    "    Tboot = exp(mean(Xsample))\n",
    "    TBoot = c(TBoot,Tboot)\n",
    "    SD.x = c(SD.x,sd(TBoot))\n",
    "}\n",
    "SD.theta.x = sd(TBoot)\n",
    "# plot(1:B,SD.x,col = 4) \n",
    "hist(TBoot, col = 3)\n",
    "\n",
    "low2 = 2*x.theta-quantile(TBoot,1-alpha/2)\n",
    "up2 = 2*x.theta-quantile(TBoot,alpha/2)\n",
    "print(sprintf('非参数Bootstrap方法的置信区间：(%0.2f , %0.2f)',low2,up2))\n",
    "\n",
    "sd2 = sd(TBoot)\n",
    "print(sprintf('非参数Bootstrap方法的标准差：%0.2f ',sd2))"
   ]
  },
  {
   "cell_type": "markdown",
   "id": "7630ad60",
   "metadata": {},
   "source": [
    "结论：\n",
    "\n",
    "使用参数Bootstrap方法得到的标准差较小，因为这种方法假设总体分布已知，能够利用分布的信息，但是非参数的方法只能利用数据本身的信息，因而在相同的置信水平下，使用参数方法得到的置信区间更小，也就是精度更高。根据绘制出的直方图可以看到，参数theta大致服从正态分布，略微右偏。"
   ]
  },
  {
   "cell_type": "markdown",
   "id": "7393f7d5",
   "metadata": {},
   "source": [
    "### 2.12"
   ]
  },
  {
   "cell_type": "code",
   "execution_count": 46,
   "id": "4016928f",
   "metadata": {
    "vscode": {
     "languageId": "r"
    }
   },
   "outputs": [
    {
     "name": "stdout",
     "output_type": "stream",
     "text": [
      "[1] \"非参数Bootstrap方法的99置信区间：(66.80 , 73.80)\"\n"
     ]
    }
   ],
   "source": [
    "x = c(64,65,65,66,67,68,68,68,68,69,69,69,70,70,70,70,71,71,71,71,71,72,72,72,73,73,73,75,77,77,77,77,77,77,78,83)\n",
    "TBoot = NULL\n",
    "n = 10 # 每次bootstrap的样本量\n",
    "B = 1000 # 次数\n",
    "SD.x = NULL\n",
    "alpha = 0.01\n",
    "for (i in 1:B){\n",
    "    Xsample = sample(x, n, T)\n",
    "    Tboot = mean(Xsample)\n",
    "    TBoot = c(TBoot,Tboot)\n",
    "    SD.x = c(SD.x,sd(TBoot))\n",
    "}\n",
    "SD.theta.x = sd(TBoot)\n",
    "x.median = median(x)\n",
    "low = 2*x.median-quantile(TBoot,1-alpha/2)\n",
    "up = 2*x.median-quantile(TBoot,alpha/2)\n",
    "print(sprintf('非参数Bootstrap方法的99置信区间：(%0.2f , %0.2f)',low,up))"
   ]
  },
  {
   "cell_type": "markdown",
   "id": "9279ede1",
   "metadata": {},
   "source": [
    "结论：\n",
    "\n",
    "使用枢轴量的非参数Bootstrap方法，有99%的把握认为12岁的这种鱼的长度的中位数在66.8到73.8之间。因此，可以基本同意中位数总是在69~72之间的结论。"
   ]
  },
  {
   "cell_type": "markdown",
   "id": "3e9db033",
   "metadata": {},
   "source": [
    "### 2.13"
   ]
  },
  {
   "cell_type": "code",
   "execution_count": 66,
   "id": "8c510dd7",
   "metadata": {
    "vscode": {
     "languageId": "r"
    }
   },
   "outputs": [
    {
     "name": "stderr",
     "output_type": "stream",
     "text": [
      "Warning message in ks.test(x, pnorm):\n",
      "\"ties should not be present for the Kolmogorov-Smirnov test\"\n"
     ]
    },
    {
     "data": {
      "text/plain": [
       "\n",
       "\tOne-sample Kolmogorov-Smirnov test\n",
       "\n",
       "data:  x\n",
       "D = 0.1875, p-value = 0.6272\n",
       "alternative hypothesis: two-sided\n"
      ]
     },
     "metadata": {},
     "output_type": "display_data"
    },
    {
     "data": {
      "text/plain": [
       "\n",
       "\tRuns Test\n",
       "\n",
       "data:  factor(x)\n",
       "Standard Normal = -2.9708, p-value = 0.00297\n",
       "alternative hypothesis: two.sided\n"
      ]
     },
     "metadata": {},
     "output_type": "display_data"
    }
   ],
   "source": [
    "data = rbind(c(4.7,5.2,6.2,5.1),c(5.0,5.4,6.7,5.7),c(5.7,5.3,6.9,5.7),c(5.4,6.5,7.4,5.9))\n",
    "# ks正态分布检验\n",
    "mu = apply(data,1,mean)\n",
    "x = as.vector(data-mu) # 实验误差\n",
    "ks.test(x,pnorm)\n",
    "\n",
    "# 随机游程检验\n",
    "library(tseries)\n",
    "x = ifelse(x > 0, 1, 0)\n",
    "runs.test(factor(x))"
   ]
  },
  {
   "cell_type": "markdown",
   "id": "478dc11f",
   "metadata": {},
   "source": [
    "结论：\n",
    "\n",
    "ks正态分布检验：p值大于0.05，不能拒绝原假设，认为实验测验误差为正态分布。\n",
    "\n",
    "随机游程检验：p值小于0.05，拒绝原假设，认为误差数据是否大于零有顺序随机性。"
   ]
  },
  {
   "cell_type": "markdown",
   "id": "0a71b042",
   "metadata": {},
   "source": [
    "### 2.14"
   ]
  },
  {
   "cell_type": "code",
   "execution_count": 67,
   "id": "2811b12b",
   "metadata": {
    "vscode": {
     "languageId": "r"
    }
   },
   "outputs": [
    {
     "data": {
      "text/plain": [
       "\n",
       "\tChi-squared test for given probabilities\n",
       "\n",
       "data:  x\n",
       "X-squared = 10.533, df = 3, p-value = 0.01454\n"
      ]
     },
     "metadata": {},
     "output_type": "display_data"
    }
   ],
   "source": [
    "# 卡方拟合优度检验，是否为均匀分布\n",
    "x = c(495,503,491,581)\n",
    "chisq.test(x,p=c(1,1,1,1)/4)\n",
    "# p值小于0.05，拒绝原假设，认为确诊病人数在季节范围内不服从均匀分布，即发病率与季节有关。"
   ]
  },
  {
   "cell_type": "markdown",
   "id": "977097d8",
   "metadata": {},
   "source": [
    "### 2.8"
   ]
  },
  {
   "cell_type": "code",
   "execution_count": 21,
   "id": "0d76ed69",
   "metadata": {
    "vscode": {
     "languageId": "r"
    }
   },
   "outputs": [
    {
     "name": "stdout",
     "output_type": "stream",
     "text": [
      "[1] \"| 真实的分位数 |    0.30    |\"\n",
      "[1] \"| 重采样正态法 |(0.09, 0.51)|\"\n",
      "[1] \"| 重采样枢轴量 |(0.07, 0.48)|\"\n",
      "[1] \"| 重采样分位数 |(0.12, 0.53)|\"\n"
     ]
    }
   ],
   "source": [
    "# 给出p分位数的bootstrap置信区间求解程序\n",
    "bootquan = function(dta, p = 0.5, alpha = 0.05){\n",
    "\n",
    "    # 使用bootstrap方法对中位数进行重抽样\n",
    "    TBoot = NULL\n",
    "    n = 10 # 每次bootstrap的样本量\n",
    "    B = 1000 # 次数\n",
    "    SD.dta = NULL\n",
    "    for (i in 1:B){\n",
    "        Xsample = sample(dta, n, T)\n",
    "        Tboot = quantile(Xsample,p)\n",
    "        TBoot = c(TBoot,Tboot)\n",
    "        SD.dta = c(SD.dta,sd(TBoot))\n",
    "    }\n",
    "    SD.quantile.dta = sd(TBoot)\n",
    "    dta.quantile = quantile(dta,p)\n",
    "    low2 = dta.quantile+qnorm(alpha/2,0,1)* SD.quantile.dta\n",
    "    up2 = dta.quantile-qnorm(alpha/2,0,1)* SD.quantile.dta\n",
    "\n",
    "    # 枢轴量置信区间估计\n",
    "    low3 = 2*dta.quantile-quantile(TBoot,1-alpha/2)\n",
    "    up3 = 2*dta.quantile-quantile(TBoot,alpha/2)\n",
    "\n",
    "    # 分位数置信区间估计\n",
    "    low4 = quantile(TBoot,alpha/2)\n",
    "    up4 = quantile(TBoot,1-alpha/2)\n",
    "\n",
    "    # 结果汇总\n",
    "    print(sprintf('| 真实的分位数 |    %0.2f    |',dta.quantile))\n",
    "    print(sprintf('| 重采样正态法 |(%0.2f, %0.2f)|',low2,up2))\n",
    "    print(sprintf('| 重采样枢轴量 |(%0.2f, %0.2f)|',low3,up3))\n",
    "    print(sprintf('| 重采样分位数 |(%0.2f, %0.2f)|',low4,up4))\n",
    "}\n",
    "\n",
    "data = scan('.//各章数据//第2章//nerve.txt') # 读入数据\n",
    "bootquan(data,p=0.75)"
   ]
  },
  {
   "cell_type": "code",
   "execution_count": 22,
   "id": "d764cbcb",
   "metadata": {
    "vscode": {
     "languageId": "r"
    }
   },
   "outputs": [
    {
     "name": "stdout",
     "output_type": "stream",
     "text": [
      "[1] \"| 真实的分位数 |    0.07    |\"\n",
      "[1] \"| 重采样正态法 |(-0.01, 0.15)|\"\n",
      "[1] \"| 重采样枢轴量 |(-0.04, 0.11)|\"\n",
      "[1] \"| 重采样分位数 |(0.03, 0.18)|\"\n"
     ]
    }
   ],
   "source": [
    "bootquan(data,p=0.25)"
   ]
  },
  {
   "cell_type": "markdown",
   "id": "159ad678",
   "metadata": {},
   "source": [
    "### 2.9"
   ]
  },
  {
   "cell_type": "code",
   "execution_count": 6,
   "id": "849c148a",
   "metadata": {
    "vscode": {
     "languageId": "r"
    }
   },
   "outputs": [
    {
     "name": "stdout",
     "output_type": "stream",
     "text": [
      "[1] 0.5459189\n"
     ]
    }
   ],
   "source": [
    "y = c(576,635,558,578,666,580,555,661,651,605,653,575,545,572,594)\n",
    "z = c(3.39,3.30,2.81,3.03,3.44,3.07,3.00,3.43,3.36,3.13,3.12,2.74,2.76,2.88,3.96)\n",
    "r = cor(y,z)\n",
    "print(r) # 相关系数"
   ]
  },
  {
   "cell_type": "code",
   "execution_count": 30,
   "id": "dd6efe1f",
   "metadata": {
    "vscode": {
     "languageId": "r"
    }
   },
   "outputs": [
    {
     "name": "stdout",
     "output_type": "stream",
     "text": [
      "[1] \"相关系数的标准误差：0.25\"\n",
      "[1] \"95枢轴量置信区间：(0.12 , 1.00)\"\n"
     ]
    },
    {
     "data": {
      "image/png": "[encoded data removed]",
      "text/plain": [
       "plot without title"
      ]
     },
     "metadata": {
      "image/png": {
       "height": 420,
       "width": 420
      }
     },
     "output_type": "display_data"
    },
    {
     "data": {
      "image/png": "[encoded data removed]",
      "text/plain": [
       "Plot with title \"Histogram of TBoot\""
      ]
     },
     "metadata": {
      "image/png": {
       "height": 420,
       "width": 420
      }
     },
     "output_type": "display_data"
    }
   ],
   "source": [
    "# 使用bootstrap的方法估计相关系数的标准误差和95%置信区间\n",
    "x = cbind(y,z)\n",
    "TBoot = NULL\n",
    "n = 10 # 每次bootstrap的样本量\n",
    "B = 1000 # 次数\n",
    "alpha = 0.05\n",
    "nn = length(y)\n",
    "SD.dta = NULL\n",
    "for (i in 1:B){\n",
    "    Xs = sample(seq(1:nn), n, T)\n",
    "    Xsample = x[Xs,]\n",
    "    Tboot = cor(Xsample[,1],Xsample[,2])\n",
    "    TBoot = c(TBoot,Tboot)\n",
    "    SD.dta = c(SD.dta,sd(TBoot))\n",
    "}\n",
    "SD.cor.dta = sd(TBoot)\n",
    "low = 2*r-quantile(TBoot,1-alpha/2)\n",
    "up = 2*r-quantile(TBoot,alpha/2)\n",
    "\n",
    "print(sprintf('相关系数的标准误差：%0.2f',SD.cor.dta))\n",
    "print(sprintf('95枢轴量置信区间：(%0.2f , %0.2f)',low,up))\n",
    "\n",
    "plot(1:B,SD.dta,col = 4)\n",
    "hist(TBoot, col = 3)"
   ]
  },
  {
   "cell_type": "markdown",
   "id": "d32e7a86",
   "metadata": {},
   "source": [
    "### 2.10"
   ]
  },
  {
   "cell_type": "code",
   "execution_count": 66,
   "id": "a136a8db",
   "metadata": {
    "vscode": {
     "languageId": "r"
    }
   },
   "outputs": [
    {
     "name": "stdout",
     "output_type": "stream",
     "text": [
      "[1] 1 0 0\n",
      "[1] 1 1 1\n",
      "[1] 1 1 1\n"
     ]
    }
   ],
   "source": [
    "library(e1071)\n",
    "y = rnorm(50,0,1)\n",
    "x = exp(y)\n",
    "s = skewness(x) # 真实偏度\n",
    "\n",
    "# 给出偏度的bootstrap置信区间求解程序,n是每次bootstrap的样本量\n",
    "bootsk = function(dta, n=30, alpha = 0.05){ \n",
    "\n",
    "    # 使用bootstrap方法对中位数进行重抽样\n",
    "    TBoot = NULL\n",
    "    B = 1000 # 次数\n",
    "    SD.dta = NULL\n",
    "    for (i in 1:B){\n",
    "        Xsample = sample(dta, n, T)\n",
    "        Tboot = skewness(Xsample)\n",
    "        TBoot = c(TBoot,Tboot)\n",
    "        SD.dta = c(SD.dta,sd(TBoot))\n",
    "    }\n",
    "    SD.sk.dta = sd(TBoot)\n",
    "    low2 = s+qnorm(alpha/2,0,1)* SD.sk.dta\n",
    "    up2 = s-qnorm(alpha/2,0,1)* SD.sk.dta\n",
    "\n",
    "    # 枢轴量置信区间估计\n",
    "    low3 = 2*s-quantile(TBoot,1-alpha/2)\n",
    "    up3 = 2*s-quantile(TBoot,alpha/2)\n",
    "\n",
    "    # 分位数置信区间估计\n",
    "    low4 = quantile(TBoot,alpha/2)\n",
    "    up4 = quantile(TBoot,1-alpha/2)\n",
    "\n",
    "    # # 结果汇总\n",
    "    # print(sprintf('| 真实的分位数 |    %0.2f    |',s))\n",
    "    # print(sprintf('| 重采样正态法 |(%0.2f, %0.2f)|',low2,up2))\n",
    "    # print(sprintf('| 重采样枢轴量 |(%0.2f, %0.2f)|',low3,up3))\n",
    "    # print(sprintf('| 重采样分位数 |(%0.2f, %0.2f)|',low4,up4))\n",
    "\n",
    "    output = cbind(c(low2,low3,low4),c(up2,up3,up4))\n",
    "    return(output)\n",
    "}\n",
    "\n",
    "fugai = function(x,n){\n",
    "    # 重复多次估计真实覆盖率\n",
    "    b1=0\n",
    "    b2=0\n",
    "    b3=0\n",
    "    for (i in 1:1000){\n",
    "        out = bootsk(x,n)\n",
    "        if((out[1,1] < s && s < out[1,2]) == TRUE){b1 = b1+1}\n",
    "        if((out[2,1] < s && s < out[2,2]) == TRUE){b2 = b2+1}\n",
    "        if((out[3,1] < s && s < out[3,2]) == TRUE){b3 = b3+1}\n",
    "    }\n",
    "    p1 = b1/1000\n",
    "    p2 = b2/1000\n",
    "    p3 = b3/1000\n",
    "\n",
    "    print(c(p1,p2,p3))\n",
    "}\n",
    "\n",
    "fugai(x,5) # bootstrap的样本量为10时各区间覆盖率\n",
    "fugai(x,10)\n",
    "fugai(x,40)\n",
    "# 三种区间的真实覆盖率随着bootstrap的样本量而变化，其中正态置信区间的覆盖率几乎总是为100%；当样本量合适时3种区间的真实覆盖率几乎都是100%"
   ]
  }
 ],
 "metadata": {
  "kernelspec": {
   "display_name": "R",
   "language": "R",
   "name": "ir"
  },
  "language_info": {
   "codemirror_mode": "r",
   "file_extension": ".r",
   "mimetype": "text/x-r-source",
   "name": "R",
   "pygments_lexer": "r",
   "version": "4.1.3"
  }
 },
 "nbformat": 4,
 "nbformat_minor": 5
}

{
 "cells": [
  {
   "cell_type": "markdown",
   "id": "2d8d44c1",
   "metadata": {},
   "source": [
    "### 2.1"
   ]
  },
  {
   "cell_type": "code",
   "execution_count": 1,
   "id": "d87b2187",
   "metadata": {
    "vscode": {
     "languageId": "r"
    }
   },
   "outputs": [
    {
     "data": {
      "text/html": [
       "<ol>\n",
       "\t<li><style>\n",
       ".dl-inline {width: auto; margin:0; padding: 0}\n",
       ".dl-inline>dt, .dl-inline>dd {float: none; width: auto; display: inline-block}\n",
       ".dl-inline>dt::after {content: \":\\0020\"; padding-right: .5ex}\n",
       ".dl-inline>dt:not(:first-of-type) {padding-left: .5ex}\n",
       "</style><dl class=dl-inline><dt>s+</dt><dd>6</dd><dt>s-</dt><dd>6</dd><dt>n'</dt><dd>12</dd></dl>\n",
       "</li>\n",
       "\t<li><style>\n",
       ".dl-inline {width: auto; margin:0; padding: 0}\n",
       ".dl-inline>dt, .dl-inline>dd {float: none; width: auto; display: inline-block}\n",
       ".dl-inline>dt::after {content: \":\\0020\"; padding-right: .5ex}\n",
       ".dl-inline>dt:not(:first-of-type) {padding-left: .5ex}\n",
       "</style><dl class=dl-inline><dt>原假设</dt><dd>'H0: M&lt;=M0'</dd><dt>单边p值</dt><dd>'0.61279296875'</dd><dt>双边p值</dt><dd>'1.2255859375'</dd></dl>\n",
       "</li>\n",
       "</ol>\n"
      ],
      "text/latex": [
       "\\begin{enumerate}\n",
       "\\item \\begin{description*}\n",
       "\\item[s+] 6\n",
       "\\item[s-] 6\n",
       "\\item[n'] 12\n",
       "\\end{description*}\n",
       "\n",
       "\\item \\begin{description*}\n",
       "\\item[原假设] 'H0: M<=M0'\n",
       "\\item[单边p值] '0.61279296875'\n",
       "\\item[双边p值] '1.2255859375'\n",
       "\\end{description*}\n",
       "\n",
       "\\end{enumerate}\n"
      ],
      "text/markdown": [
       "1. s+\n",
       ":   6s-\n",
       ":   6n'\n",
       ":   12\n",
       "\n",
       "\n",
       "2. 原假设\n",
       ":   'H0: M&lt;=M0'单边p值\n",
       ":   '0.61279296875'双边p值\n",
       ":   '1.2255859375'\n",
       "\n",
       "\n",
       "\n",
       "\n"
      ],
      "text/plain": [
       "[[1]]\n",
       "s+ s- n' \n",
       " 6  6 12 \n",
       "\n",
       "[[2]]\n",
       "         原假设         单边p值         双边p值 \n",
       "    \"H0: M<=M0\" \"0.61279296875\"  \"1.2255859375\" \n"
      ]
     },
     "metadata": {},
     "output_type": "display_data"
    }
   ],
   "source": [
    "# (1)平均件数是否为10\n",
    "# 读入数据\n",
    "# library(dplyr)\n",
    "# data = read.table('D://nonparametric//各章数据//第1章//beenswax.txt',header = TRUE)\n",
    "data = c(22,9,4,5,1,16,15,26,47,8,31,7)\n",
    "# 符号检验法\n",
    "sign.test = function(x,p,M0){ #x为数据，p为分位数，M0为待检验的的数\n",
    "    s1 = sum(x<M0)\n",
    "    s2 = sum(x>M0)\n",
    "    n = s1+s2\n",
    "    p1 = pbinom(s1,n,p)\n",
    "    p2 = 1-pbinom(s1-1,n,p)\n",
    "\n",
    "    if (p1>p2) m1 = \"H0: M>=M0\"\n",
    "    else m1 = \"H0: M<=M0\"\n",
    "\n",
    "    p.value = min(p1,p2)\n",
    "    p.value2 = 2*p.value\n",
    "    list(c(\"s+\" = s2,\"s-\" = s1,\"n'\" = n),c(\"原假设\" = m1,\"单边p值\" = p.value,\"双边p值\" = p.value2))\n",
    "}\n",
    "\n",
    "sign.test(data,0.5,10) "
   ]
  },
  {
   "cell_type": "markdown",
   "id": "2f124eaa",
   "metadata": {},
   "source": [
    "### 2.2"
   ]
  },
  {
   "cell_type": "code",
   "execution_count": 2,
   "id": "dd003479",
   "metadata": {
    "vscode": {
     "languageId": "r"
    }
   },
   "outputs": [
    {
     "data": {
      "text/plain": [
       "\n",
       "\tExact binomial test\n",
       "\n",
       "data:  200 and 350\n",
       "number of successes = 200, number of trials = 350, p-value = 0.00872\n",
       "alternative hypothesis: true probability of success is not equal to 0.5\n",
       "95 percent confidence interval:\n",
       " 0.5177343 0.6239041\n",
       "sample estimates:\n",
       "probability of success \n",
       "             0.5714286 \n"
      ]
     },
     "metadata": {},
     "output_type": "display_data"
    }
   ],
   "source": [
    "binom.test(200,350,0.5) # 二项分布检验\n",
    "#p值小于0.05，拒绝原假设，认为中位数不是150"
   ]
  },
  {
   "cell_type": "markdown",
   "id": "7e691d90",
   "metadata": {},
   "source": [
    "### 2.3"
   ]
  },
  {
   "cell_type": "code",
   "execution_count": 15,
   "id": "17c8db9e",
   "metadata": {
    "vscode": {
     "languageId": "r"
    }
   },
   "outputs": [
    {
     "data": {
      "text/html": [
       "3.0517578125e-05"
      ],
      "text/latex": [
       "3.0517578125e-05"
      ],
      "text/markdown": [
       "3.0517578125e-05"
      ],
      "text/plain": [
       "[1] 3.051758e-05"
      ]
     },
     "metadata": {},
     "output_type": "display_data"
    }
   ],
   "source": [
    "x = c(17.3,17.9,18.4,18.1,18.3,19.6,18.6,19.2,17.7,20,19,18.8,19.3,20.2,19.9)\n",
    "Y = x[1:7]-x[9:15]\n",
    "pbinom(sum(sign(Y)==1),15,0.5) #差值大于0的个数有sum(sign(Y)==1)"
   ]
  },
  {
   "cell_type": "markdown",
   "id": "77a3e61f",
   "metadata": {},
   "source": [
    "### 2.4"
   ]
  },
  {
   "cell_type": "code",
   "execution_count": 4,
   "id": "baedc316",
   "metadata": {
    "vscode": {
     "languageId": "r"
    }
   },
   "outputs": [
    {
     "data": {
      "text/html": [
       "<ol>\n",
       "\t<li><style>\n",
       ".dl-inline {width: auto; margin:0; padding: 0}\n",
       ".dl-inline>dt, .dl-inline>dd {float: none; width: auto; display: inline-block}\n",
       ".dl-inline>dt::after {content: \":\\0020\"; padding-right: .5ex}\n",
       ".dl-inline>dt:not(:first-of-type) {padding-left: .5ex}\n",
       "</style><dl class=dl-inline><dt>s+</dt><dd>7</dd><dt>s-</dt><dd>3</dd><dt>n'</dt><dd>10</dd></dl>\n",
       "</li>\n",
       "\t<li><style>\n",
       ".dl-inline {width: auto; margin:0; padding: 0}\n",
       ".dl-inline>dt, .dl-inline>dd {float: none; width: auto; display: inline-block}\n",
       ".dl-inline>dt::after {content: \":\\0020\"; padding-right: .5ex}\n",
       ".dl-inline>dt:not(:first-of-type) {padding-left: .5ex}\n",
       "</style><dl class=dl-inline><dt>原假设</dt><dd>'H0: M&lt;=M0'</dd><dt>单边p值</dt><dd>'0.171875'</dd><dt>双边p值</dt><dd>'0.34375'</dd></dl>\n",
       "</li>\n",
       "</ol>\n"
      ],
      "text/latex": [
       "\\begin{enumerate}\n",
       "\\item \\begin{description*}\n",
       "\\item[s+] 7\n",
       "\\item[s-] 3\n",
       "\\item[n'] 10\n",
       "\\end{description*}\n",
       "\n",
       "\\item \\begin{description*}\n",
       "\\item[原假设] 'H0: M<=M0'\n",
       "\\item[单边p值] '0.171875'\n",
       "\\item[双边p值] '0.34375'\n",
       "\\end{description*}\n",
       "\n",
       "\\end{enumerate}\n"
      ],
      "text/markdown": [
       "1. s+\n",
       ":   7s-\n",
       ":   3n'\n",
       ":   10\n",
       "\n",
       "\n",
       "2. 原假设\n",
       ":   'H0: M&lt;=M0'单边p值\n",
       ":   '0.171875'双边p值\n",
       ":   '0.34375'\n",
       "\n",
       "\n",
       "\n",
       "\n"
      ],
      "text/plain": [
       "[[1]]\n",
       "s+ s- n' \n",
       " 7  3 10 \n",
       "\n",
       "[[2]]\n",
       "     原假设     单边p值     双边p值 \n",
       "\"H0: M<=M0\"  \"0.171875\"   \"0.34375\" \n"
      ]
     },
     "metadata": {},
     "output_type": "display_data"
    }
   ],
   "source": [
    "x = c(91,46,108,99,110,105,191,57,34,81)\n",
    "y = c(81,51,63,51,46,45,66,64,90,28)\n",
    "# (1)符号检验\n",
    "sign.test(x-y,0.5,0) # 看双边检验，是否存在显著差异"
   ]
  },
  {
   "cell_type": "markdown",
   "id": "a0a53150",
   "metadata": {},
   "source": [
    "### 2.5"
   ]
  },
  {
   "cell_type": "code",
   "execution_count": 6,
   "id": "54776def",
   "metadata": {
    "vscode": {
     "languageId": "r"
    }
   },
   "outputs": [
    {
     "data": {
      "text/plain": [
       "\n",
       "\tRuns Test\n",
       "\n",
       "data:  y\n",
       "Standard Normal = -0.36882, p-value = 0.7123\n",
       "alternative hypothesis: two.sided\n"
      ]
     },
     "metadata": {},
     "output_type": "display_data"
    }
   ],
   "source": [
    "data = c(0,1,0,1,1,1,0,0,1,1,0,0,0,0,1,1,1,1,1,1,1,1,1,0,1,0,0,1,1,1,0,1,0,1,0,1,0,0,0,0,0,0,0,0,1,0,1,1,0,0,1,1,1,0,1,0,1,0,0,0,1,0,0,1,0,1,0,1,0,0,0,0,0,0,0,0)\n",
    "# install.packages(\"lawstat\")\n",
    "library(lawstat)\n",
    "library(tseries)\n",
    "y = factor(data)\n",
    "runs.test(y)\n",
    "# 拒绝原假设，认为信号不是纯粹随机干扰"
   ]
  },
  {
   "cell_type": "markdown",
   "id": "0b5c5cae",
   "metadata": {},
   "source": [
    "### 2.6"
   ]
  },
  {
   "cell_type": "code",
   "execution_count": 7,
   "id": "12d02895",
   "metadata": {
    "vscode": {
     "languageId": "r"
    }
   },
   "outputs": [
    {
     "data": {
      "text/plain": [
       "\n",
       "\tRuns Test\n",
       "\n",
       "data:  y\n",
       "Standard Normal = -2.4326, p-value = 0.01499\n",
       "alternative hypothesis: two.sided\n"
      ]
     },
     "metadata": {},
     "output_type": "display_data"
    }
   ],
   "source": [
    "library(lawstat)\n",
    "library(tseries)\n",
    "data = c(509,505,502,501,493,498,497,502,504,506,505,508,498,495,496,507,506,507,508,505)\n",
    "data = ifelse(data > 500, 1, 0)\n",
    "y = factor(data)\n",
    "runs.test(y)\n",
    "# 拒绝原假设，认为信号不是纯粹随机干扰"
   ]
  },
  {
   "cell_type": "code",
   "execution_count": 4,
   "id": "41423109",
   "metadata": {
    "vscode": {
     "languageId": "r"
    }
   },
   "outputs": [
    {
     "data": {
      "text/html": [
       "<style>\n",
       ".list-inline {list-style: none; margin:0; padding: 0}\n",
       ".list-inline>li {display: inline-block}\n",
       ".list-inline>li:not(:last-child)::after {content: \"\\00b7\"; padding: 0 .5ex}\n",
       "</style>\n",
       "<ol class=list-inline><li>1</li><li>1</li><li>1</li><li>1</li><li>0</li><li>0</li><li>0</li><li>1</li><li>1</li><li>1</li><li>1</li><li>1</li><li>0</li><li>0</li><li>0</li><li>1</li><li>1</li><li>1</li><li>1</li><li>1</li></ol>\n",
       "\n",
       "<details>\n",
       "\t<summary style=display:list-item;cursor:pointer>\n",
       "\t\t<strong>Levels</strong>:\n",
       "\t</summary>\n",
       "\t<style>\n",
       "\t.list-inline {list-style: none; margin:0; padding: 0}\n",
       "\t.list-inline>li {display: inline-block}\n",
       "\t.list-inline>li:not(:last-child)::after {content: \"\\00b7\"; padding: 0 .5ex}\n",
       "\t</style>\n",
       "\t<ol class=list-inline><li>'0'</li><li>'1'</li></ol>\n",
       "</details>"
      ],
      "text/latex": [
       "\\begin{enumerate*}\n",
       "\\item 1\n",
       "\\item 1\n",
       "\\item 1\n",
       "\\item 1\n",
       "\\item 0\n",
       "\\item 0\n",
       "\\item 0\n",
       "\\item 1\n",
       "\\item 1\n",
       "\\item 1\n",
       "\\item 1\n",
       "\\item 1\n",
       "\\item 0\n",
       "\\item 0\n",
       "\\item 0\n",
       "\\item 1\n",
       "\\item 1\n",
       "\\item 1\n",
       "\\item 1\n",
       "\\item 1\n",
       "\\end{enumerate*}\n",
       "\n",
       "\\emph{Levels}: \\begin{enumerate*}\n",
       "\\item '0'\n",
       "\\item '1'\n",
       "\\end{enumerate*}\n"
      ],
      "text/markdown": [
       "1. 1\n",
       "2. 1\n",
       "3. 1\n",
       "4. 1\n",
       "5. 0\n",
       "6. 0\n",
       "7. 0\n",
       "8. 1\n",
       "9. 1\n",
       "10. 1\n",
       "11. 1\n",
       "12. 1\n",
       "13. 0\n",
       "14. 0\n",
       "15. 0\n",
       "16. 1\n",
       "17. 1\n",
       "18. 1\n",
       "19. 1\n",
       "20. 1\n",
       "\n",
       "\n",
       "\n",
       "**Levels**: 1. '0'\n",
       "2. '1'\n",
       "\n",
       "\n"
      ],
      "text/plain": [
       " [1] 1 1 1 1 0 0 0 1 1 1 1 1 0 0 0 1 1 1 1 1\n",
       "Levels: 0 1"
      ]
     },
     "metadata": {},
     "output_type": "display_data"
    }
   ],
   "source": []
  },
  {
   "cell_type": "markdown",
   "id": "e19e5d6f",
   "metadata": {},
   "source": [
    "### 2.7"
   ]
  },
  {
   "cell_type": "code",
   "execution_count": 8,
   "id": "642a4cac",
   "metadata": {
    "vscode": {
     "languageId": "r"
    }
   },
   "outputs": [
    {
     "data": {
      "text/html": [
       "<ol>\n",
       "\t<li><style>\n",
       ".dl-inline {width: auto; margin:0; padding: 0}\n",
       ".dl-inline>dt, .dl-inline>dd {float: none; width: auto; display: inline-block}\n",
       ".dl-inline>dt::after {content: \":\\0020\"; padding-right: .5ex}\n",
       ".dl-inline>dt:not(:first-of-type) {padding-left: .5ex}\n",
       "</style><dl class=dl-inline><dt>s+</dt><dd>5</dd><dt>s-</dt><dd>1</dd><dt>n'</dt><dd>6</dd></dl>\n",
       "</li>\n",
       "\t<li><style>\n",
       ".dl-inline {width: auto; margin:0; padding: 0}\n",
       ".dl-inline>dt, .dl-inline>dd {float: none; width: auto; display: inline-block}\n",
       ".dl-inline>dt::after {content: \":\\0020\"; padding-right: .5ex}\n",
       ".dl-inline>dt:not(:first-of-type) {padding-left: .5ex}\n",
       "</style><dl class=dl-inline><dt>原假设</dt><dd>'H0: M&lt;=M0'</dd><dt>单边p值</dt><dd>'0.109375'</dd><dt>双边p值</dt><dd>'0.21875'</dd></dl>\n",
       "</li>\n",
       "</ol>\n"
      ],
      "text/latex": [
       "\\begin{enumerate}\n",
       "\\item \\begin{description*}\n",
       "\\item[s+] 5\n",
       "\\item[s-] 1\n",
       "\\item[n'] 6\n",
       "\\end{description*}\n",
       "\n",
       "\\item \\begin{description*}\n",
       "\\item[原假设] 'H0: M<=M0'\n",
       "\\item[单边p值] '0.109375'\n",
       "\\item[双边p值] '0.21875'\n",
       "\\end{description*}\n",
       "\n",
       "\\end{enumerate}\n"
      ],
      "text/markdown": [
       "1. s+\n",
       ":   5s-\n",
       ":   1n'\n",
       ":   6\n",
       "\n",
       "\n",
       "2. 原假设\n",
       ":   'H0: M&lt;=M0'单边p值\n",
       ":   '0.109375'双边p值\n",
       ":   '0.21875'\n",
       "\n",
       "\n",
       "\n",
       "\n"
      ],
      "text/plain": [
       "[[1]]\n",
       "s+ s- n' \n",
       " 5  1  6 \n",
       "\n",
       "[[2]]\n",
       "     原假设     单边p值     双边p值 \n",
       "\"H0: M<=M0\"  \"0.109375\"   \"0.21875\" \n"
      ]
     },
     "metadata": {},
     "output_type": "display_data"
    }
   ],
   "source": [
    "x = c(174,192,188,182,201,188) # 前\n",
    "y = c(165,186,183,178,203,181) # 后\n",
    "# (1)符号检验:判断减肥计划是否成功\n",
    "sign.test(x-y,0.5,0) "
   ]
  }
 ],
 "metadata": {
  "kernelspec": {
   "display_name": "R",
   "language": "R",
   "name": "ir"
  },
  "language_info": {
   "codemirror_mode": "r",
   "file_extension": ".r",
   "mimetype": "text/x-r-source",
   "name": "R",
   "pygments_lexer": "r",
   "version": "4.1.3"
  }
 },
 "nbformat": 4,
 "nbformat_minor": 5
}

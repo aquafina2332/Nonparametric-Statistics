{
 "cells": [
  {
   "cell_type": "markdown",
   "id": "77aaf0e5",
   "metadata": {},
   "source": [
    "### 1.3"
   ]
  },
  {
   "cell_type": "markdown",
   "id": "5a901314",
   "metadata": {},
   "source": [
    "（1）标准正态分布"
   ]
  },
  {
   "cell_type": "code",
   "execution_count": 1,
   "id": "9d6c5c9a",
   "metadata": {
    "vscode": {
     "languageId": "r"
    }
   },
   "outputs": [
    {
     "data": {
      "text/html": [
       "<style>\n",
       ".list-inline {list-style: none; margin:0; padding: 0}\n",
       ".list-inline>li {display: inline-block}\n",
       ".list-inline>li:not(:last-child)::after {content: \"\\00b7\"; padding: 0 .5ex}\n",
       "</style>\n",
       "<ol class=list-inline><li>0.589459658318533</li><li>0.559008468785175</li><li>0.909681769009354</li><li>0.611047306764487</li><li>0.336494687129506</li><li>0.865989732615997</li></ol>\n"
      ],
      "text/latex": [
       "\\begin{enumerate*}\n",
       "\\item 0.589459658318533\n",
       "\\item 0.559008468785175\n",
       "\\item 0.909681769009354\n",
       "\\item 0.611047306764487\n",
       "\\item 0.336494687129506\n",
       "\\item 0.865989732615997\n",
       "\\end{enumerate*}\n"
      ],
      "text/markdown": [
       "1. 0.589459658318533\n",
       "2. 0.559008468785175\n",
       "3. 0.909681769009354\n",
       "4. 0.611047306764487\n",
       "5. 0.336494687129506\n",
       "6. 0.865989732615997\n",
       "\n",
       "\n"
      ],
      "text/plain": [
       "[1] 0.5894597 0.5590085 0.9096818 0.6110473 0.3364947 0.8659897"
      ]
     },
     "metadata": {},
     "output_type": "display_data"
    }
   ],
   "source": [
    "#构造(Un)^n，从标准正态总体中抽取1000个样本\n",
    "set.seed(0)\n",
    "x <- rnorm(1000,0,1)\n",
    "x1 <- sort(x)\n",
    "F <- pnorm(x1)\n",
    "U <- rep(0,1000)\n",
    "for(i in 1:999){U[100] <- F[1000]\n",
    "    U[i] <- F[i]/F[i+1]\n",
    "}\n",
    "head(U)"
   ]
  },
  {
   "cell_type": "code",
   "execution_count": 2,
   "id": "63fe202d",
   "metadata": {
    "vscode": {
     "languageId": "r"
    }
   },
   "outputs": [
    {
     "data": {
      "text/html": [
       "<style>\n",
       ".list-inline {list-style: none; margin:0; padding: 0}\n",
       ".list-inline>li {display: inline-block}\n",
       ".list-inline>li:not(:last-child)::after {content: \"\\00b7\"; padding: 0 .5ex}\n",
       "</style>\n",
       "<ol class=list-inline><li>0.589459658318533</li><li>0.312490468173546</li><li>0.75278069518744</li><li>0.139411736581536</li><li>0.00431410844586333</li><li>0.421770749769629</li></ol>\n"
      ],
      "text/latex": [
       "\\begin{enumerate*}\n",
       "\\item 0.589459658318533\n",
       "\\item 0.312490468173546\n",
       "\\item 0.75278069518744\n",
       "\\item 0.139411736581536\n",
       "\\item 0.00431410844586333\n",
       "\\item 0.421770749769629\n",
       "\\end{enumerate*}\n"
      ],
      "text/markdown": [
       "1. 0.589459658318533\n",
       "2. 0.312490468173546\n",
       "3. 0.75278069518744\n",
       "4. 0.139411736581536\n",
       "5. 0.00431410844586333\n",
       "6. 0.421770749769629\n",
       "\n",
       "\n"
      ],
      "text/plain": [
       "[1] 0.589459658 0.312490468 0.752780695 0.139411737 0.004314108 0.421770750"
      ]
     },
     "metadata": {},
     "output_type": "display_data"
    }
   ],
   "source": [
    "Ui <- rep(0,1000)\n",
    "for(i in 1:1000){\n",
    "    Ui[i] <- (U[i])^i\n",
    "}\n",
    "head(Ui)"
   ]
  },
  {
   "cell_type": "code",
   "execution_count": 3,
   "id": "78227cbe",
   "metadata": {
    "vscode": {
     "languageId": "r"
    }
   },
   "outputs": [
    {
     "data": {
      "image/png": "[encoded data removed]",
      "text/plain": [
       "Plot with title \"Histogram of Ui\""
      ]
     },
     "metadata": {
      "image/png": {
       "height": 420,
       "width": 420
      }
     },
     "output_type": "display_data"
    }
   ],
   "source": [
    "#证明(Un)^n为来自(0,1)上均匀分布的iid样本\n",
    "##做直方图\n",
    "hist(Ui)"
   ]
  },
  {
   "cell_type": "code",
   "execution_count": 4,
   "id": "d00daa14",
   "metadata": {
    "vscode": {
     "languageId": "r"
    }
   },
   "outputs": [
    {
     "data": {
      "text/plain": [
       "\n",
       "\tOne-sample Kolmogorov-Smirnov test\n",
       "\n",
       "data:  Ui\n",
       "D = 0.026571, p-value = 0.4802\n",
       "alternative hypothesis: two-sided\n"
      ]
     },
     "metadata": {},
     "output_type": "display_data"
    }
   ],
   "source": [
    "##做ks检验\n",
    "ks.test(Ui,punif)"
   ]
  },
  {
   "cell_type": "markdown",
   "id": "4b253d8d",
   "metadata": {},
   "source": [
    "（2）指数分布"
   ]
  },
  {
   "cell_type": "code",
   "execution_count": 5,
   "id": "3aad660f",
   "metadata": {
    "vscode": {
     "languageId": "r"
    }
   },
   "outputs": [
    {
     "data": {
      "text/html": [
       "<style>\n",
       ".list-inline {list-style: none; margin:0; padding: 0}\n",
       ".list-inline>li {display: inline-block}\n",
       ".list-inline>li:not(:last-child)::after {content: \"\\00b7\"; padding: 0 .5ex}\n",
       "</style>\n",
       "<ol class=list-inline><li>0.184036581271187</li><li>0.145706726703793</li><li>0.139795261868498</li><li>0.436068625779175</li><li>2.89496853746407</li><li>1.22956205341489</li></ol>\n"
      ],
      "text/latex": [
       "\\begin{enumerate*}\n",
       "\\item 0.184036581271187\n",
       "\\item 0.145706726703793\n",
       "\\item 0.139795261868498\n",
       "\\item 0.436068625779175\n",
       "\\item 2.89496853746407\n",
       "\\item 1.22956205341489\n",
       "\\end{enumerate*}\n"
      ],
      "text/markdown": [
       "1. 0.184036581271187\n",
       "2. 0.145706726703793\n",
       "3. 0.139795261868498\n",
       "4. 0.436068625779175\n",
       "5. 2.89496853746407\n",
       "6. 1.22956205341489\n",
       "\n",
       "\n"
      ],
      "text/plain": [
       "[1] 0.1840366 0.1457067 0.1397953 0.4360686 2.8949685 1.2295621"
      ]
     },
     "metadata": {},
     "output_type": "display_data"
    },
    {
     "data": {
      "text/plain": [
       "\n",
       "\tTwo-sample Kolmogorov-Smirnov test\n",
       "\n",
       "data:  U and y\n",
       "D = 0.0077893, p-value = 0.922\n",
       "alternative hypothesis: two-sided\n"
      ]
     },
     "metadata": {},
     "output_type": "display_data"
    }
   ],
   "source": [
    "set.seed(0)\n",
    "x<-rexp(10000,1)\n",
    "head(x)\n",
    "x1=sort(x)\n",
    "F=pexp(x1)\n",
    "U=seq(1,10000,by=1)\n",
    "for (i in 1:9999){\n",
    "  U[i]=(F[i]/F[i+1])^i\n",
    "}\n",
    "y=runif(9999,min=0,max=1)\n",
    "ks.test(U,y)"
   ]
  },
  {
   "cell_type": "code",
   "execution_count": 7,
   "id": "65583f84",
   "metadata": {
    "vscode": {
     "languageId": "r"
    }
   },
   "outputs": [
    {
     "data": {
      "text/html": [
       "<style>\n",
       ".list-inline {list-style: none; margin:0; padding: 0}\n",
       ".list-inline>li {display: inline-block}\n",
       ".list-inline>li:not(:last-child)::after {content: \"\\00b7\"; padding: 0 .5ex}\n",
       "</style>\n",
       "<ol class=list-inline><li>0</li><li>3.58841904487471e-15</li><li>2.1278635009565e-13</li><li>1.03411104150541e-12</li><li>2.40799622131338e-12</li><li>4.08253017687593e-12</li></ol>\n"
      ],
      "text/latex": [
       "\\begin{enumerate*}\n",
       "\\item 0\n",
       "\\item 3.58841904487471e-15\n",
       "\\item 2.1278635009565e-13\n",
       "\\item 1.03411104150541e-12\n",
       "\\item 2.40799622131338e-12\n",
       "\\item 4.08253017687593e-12\n",
       "\\end{enumerate*}\n"
      ],
      "text/markdown": [
       "1. 0\n",
       "2. 3.58841904487471e-15\n",
       "3. 2.1278635009565e-13\n",
       "4. 1.03411104150541e-12\n",
       "5. 2.40799622131338e-12\n",
       "6. 4.08253017687593e-12\n",
       "\n",
       "\n"
      ],
      "text/plain": [
       "[1] 0.000000e+00 3.588419e-15 2.127864e-13 1.034111e-12 2.407996e-12\n",
       "[6] 4.082530e-12"
      ]
     },
     "metadata": {},
     "output_type": "display_data"
    }
   ],
   "source": [
    "U=seq(1,10000,by=1)\n",
    "for (i in 1:9999){\n",
    "  U[i]=(y[i]/y[i+1])^i\n",
    "}\n",
    "head(U)"
   ]
  },
  {
   "cell_type": "markdown",
   "id": "e95b83ca",
   "metadata": {},
   "source": [
    "（3）卡方分布"
   ]
  },
  {
   "cell_type": "code",
   "execution_count": 6,
   "id": "bac8a4b8",
   "metadata": {
    "vscode": {
     "languageId": "r"
    }
   },
   "outputs": [
    {
     "data": {
      "image/png": "[encoded data removed]",
      "text/plain": [
       "plot without title"
      ]
     },
     "metadata": {
      "image/png": {
       "height": 420,
       "width": 420
      }
     },
     "output_type": "display_data"
    }
   ],
   "source": [
    "set.seed(1)\n",
    "x <- seq(0,100,0.01)\n",
    "y <- dchisq(x,50)       ##生成概率密度函数      \n",
    "plot(x,y)                ##绘制概率密度函数"
   ]
  },
  {
   "cell_type": "code",
   "execution_count": 9,
   "id": "6f592551",
   "metadata": {
    "vscode": {
     "languageId": "r"
    }
   },
   "outputs": [
    {
     "data": {
      "image/png": "[encoded data removed]",
      "text/plain": [
       "Plot with title \"Histogram of Ui\""
      ]
     },
     "metadata": {
      "image/png": {
       "height": 420,
       "width": 420
      }
     },
     "output_type": "display_data"
    }
   ],
   "source": [
    "##做直方图\n",
    "hist(Ui)"
   ]
  },
  {
   "cell_type": "markdown",
   "id": "d2bae5ad",
   "metadata": {},
   "source": [
    "### 1.4"
   ]
  },
  {
   "cell_type": "markdown",
   "id": "54819c80",
   "metadata": {},
   "source": [
    "![图片](D:\\nonparametric\\各章数据\\第1章\\屏幕截图\\1.png)"
   ]
  },
  {
   "cell_type": "markdown",
   "id": "e7a9cece",
   "metadata": {},
   "source": [
    "![图片2](D:\\nonparametric\\各章数据\\第1章\\屏幕截图\\2.png)"
   ]
  },
  {
   "cell_type": "markdown",
   "id": "1eca4376",
   "metadata": {},
   "source": [
    "### 1.11"
   ]
  },
  {
   "cell_type": "code",
   "execution_count": 5,
   "id": "dc8d798c",
   "metadata": {
    "vscode": {
     "languageId": "r"
    }
   },
   "outputs": [
    {
     "data": {
      "text/html": [
       "<table class=\"dataframe\">\n",
       "<caption>A data.frame: 6 × 2</caption>\n",
       "<thead>\n",
       "\t<tr><th></th><th scope=col>MeltingPoint</th><th scope=col>Hydrocarbon</th></tr>\n",
       "\t<tr><th></th><th scope=col>&lt;dbl&gt;</th><th scope=col>&lt;dbl&gt;</th></tr>\n",
       "</thead>\n",
       "<tbody>\n",
       "\t<tr><th scope=row>1</th><td>63.78</td><td>14.27</td></tr>\n",
       "\t<tr><th scope=row>2</th><td>63.45</td><td>14.80</td></tr>\n",
       "\t<tr><th scope=row>3</th><td>63.58</td><td>12.28</td></tr>\n",
       "\t<tr><th scope=row>4</th><td>63.08</td><td>17.09</td></tr>\n",
       "\t<tr><th scope=row>5</th><td>63.40</td><td>15.10</td></tr>\n",
       "\t<tr><th scope=row>6</th><td>64.42</td><td>12.92</td></tr>\n",
       "</tbody>\n",
       "</table>\n"
      ],
      "text/latex": [
       "A data.frame: 6 × 2\n",
       "\\begin{tabular}{r|ll}\n",
       "  & MeltingPoint & Hydrocarbon\\\\\n",
       "  & <dbl> & <dbl>\\\\\n",
       "\\hline\n",
       "\t1 & 63.78 & 14.27\\\\\n",
       "\t2 & 63.45 & 14.80\\\\\n",
       "\t3 & 63.58 & 12.28\\\\\n",
       "\t4 & 63.08 & 17.09\\\\\n",
       "\t5 & 63.40 & 15.10\\\\\n",
       "\t6 & 64.42 & 12.92\\\\\n",
       "\\end{tabular}\n"
      ],
      "text/markdown": [
       "\n",
       "A data.frame: 6 × 2\n",
       "\n",
       "| <!--/--> | MeltingPoint &lt;dbl&gt; | Hydrocarbon &lt;dbl&gt; |\n",
       "|---|---|---|\n",
       "| 1 | 63.78 | 14.27 |\n",
       "| 2 | 63.45 | 14.80 |\n",
       "| 3 | 63.58 | 12.28 |\n",
       "| 4 | 63.08 | 17.09 |\n",
       "| 5 | 63.40 | 15.10 |\n",
       "| 6 | 64.42 | 12.92 |\n",
       "\n"
      ],
      "text/plain": [
       "  MeltingPoint Hydrocarbon\n",
       "1 63.78        14.27      \n",
       "2 63.45        14.80      \n",
       "3 63.58        12.28      \n",
       "4 63.08        17.09      \n",
       "5 63.40        15.10      \n",
       "6 64.42        12.92      "
      ]
     },
     "metadata": {},
     "output_type": "display_data"
    }
   ],
   "source": [
    "# 读入数据\n",
    "library(dplyr)\n",
    "data = read.table('D://nonparametric//各章数据//第1章//beenswax.txt',header = TRUE)\n",
    "head(data)\n",
    "df = data[,2] # 选择研究碳氢化合物"
   ]
  },
  {
   "cell_type": "code",
   "execution_count": 6,
   "id": "eb92b9dc",
   "metadata": {
    "vscode": {
     "languageId": "r"
    }
   },
   "outputs": [
    {
     "data": {
      "image/png": "[encoded data removed]",
      "text/plain": [
       "plot without title"
      ]
     },
     "metadata": {
      "image/png": {
       "height": 420,
       "width": 420
      }
     },
     "output_type": "display_data"
    }
   ],
   "source": [
    "# 累计经验分布图\n",
    "df.sort = sort(df)\n",
    "df.rank = rank(df.sort) \n",
    "df.cdf = df.rank/length(df)\n",
    "plot(df.sort,df.cdf)\n",
    "N = length(df)\n",
    "segments(df.sort[1:(N-1)],df.cdf[1:(N-1)] , df.sort[2:N],df.cdf[1:(N-1)])\n",
    "alpha = 0.05\n",
    "band = sqrt(1/(2*length(df))*log(2/alpha))\n",
    "lower.95 = df.cdf-band\n",
    "upper.95 = df.cdf+band\n",
    "lines(df.sort,lower.95,lty=2)\n",
    "lines(df.sort,upper.95,lty=2)"
   ]
  },
  {
   "cell_type": "code",
   "execution_count": 12,
   "id": "58529128",
   "metadata": {
    "vscode": {
     "languageId": "r"
    }
   },
   "outputs": [
    {
     "data": {
      "image/png": "[encoded data removed]",
      "text/plain": [
       "Plot with title \"Histogram of df\""
      ]
     },
     "metadata": {
      "image/png": {
       "height": 420,
       "width": 420
      }
     },
     "output_type": "display_data"
    }
   ],
   "source": [
    "# 直方图\n",
    "hist(df, freq = F) #概率密度直方图\n",
    "lines(density(df), col='red') # 随机数的密度曲线"
   ]
  },
  {
   "cell_type": "code",
   "execution_count": 13,
   "id": "81ef4c22",
   "metadata": {
    "vscode": {
     "languageId": "r"
    }
   },
   "outputs": [
    {
     "data": {
      "image/png": "[encoded data removed]",
      "text/plain": [
       "Plot with title \"Normal Q-Q Plot\""
      ]
     },
     "metadata": {
      "image/png": {
       "height": 420,
       "width": 420
      }
     },
     "output_type": "display_data"
    }
   ],
   "source": [
    "# QQ图\n",
    "qqnorm(df)\n",
    "qqline(df, col = \"red\")"
   ]
  },
  {
   "cell_type": "code",
   "execution_count": 14,
   "id": "18a41a01",
   "metadata": {
    "vscode": {
     "languageId": "r"
    }
   },
   "outputs": [
    {
     "data": {
      "image/png": "[encoded data removed]",
      "text/plain": [
       "plot without title"
      ]
     },
     "metadata": {
      "image/png": {
       "height": 420,
       "width": 420
      }
     },
     "output_type": "display_data"
    }
   ],
   "source": [
    "# 找到分位数\n",
    "## 先画一个箱线图\n",
    "boxplot(df)"
   ]
  },
  {
   "cell_type": "code",
   "execution_count": 24,
   "id": "9f81657f",
   "metadata": {
    "vscode": {
     "languageId": "r"
    }
   },
   "outputs": [
    {
     "data": {
      "text/html": [
       "<table class=\"dataframe\">\n",
       "<caption>A data.frame: 5 × 1</caption>\n",
       "<thead>\n",
       "\t<tr><th></th><th scope=col>quantile.df..c.0.9..0.75..0.5..0.25..0.1..</th></tr>\n",
       "\t<tr><th></th><th scope=col>&lt;dbl&gt;</th></tr>\n",
       "</thead>\n",
       "<tbody>\n",
       "\t<tr><th scope=row>90%</th><td>15.470</td></tr>\n",
       "\t<tr><th scope=row>75%</th><td>15.115</td></tr>\n",
       "\t<tr><th scope=row>50%</th><td>14.570</td></tr>\n",
       "\t<tr><th scope=row>25%</th><td>14.070</td></tr>\n",
       "\t<tr><th scope=row>10%</th><td>13.676</td></tr>\n",
       "</tbody>\n",
       "</table>\n"
      ],
      "text/latex": [
       "A data.frame: 5 × 1\n",
       "\\begin{tabular}{r|l}\n",
       "  & quantile.df..c.0.9..0.75..0.5..0.25..0.1..\\\\\n",
       "  & <dbl>\\\\\n",
       "\\hline\n",
       "\t90\\% & 15.470\\\\\n",
       "\t75\\% & 15.115\\\\\n",
       "\t50\\% & 14.570\\\\\n",
       "\t25\\% & 14.070\\\\\n",
       "\t10\\% & 13.676\\\\\n",
       "\\end{tabular}\n"
      ],
      "text/markdown": [
       "\n",
       "A data.frame: 5 × 1\n",
       "\n",
       "| <!--/--> | quantile.df..c.0.9..0.75..0.5..0.25..0.1.. &lt;dbl&gt; |\n",
       "|---|---|\n",
       "| 90% | 15.470 |\n",
       "| 75% | 15.115 |\n",
       "| 50% | 14.570 |\n",
       "| 25% | 14.070 |\n",
       "| 10% | 13.676 |\n",
       "\n"
      ],
      "text/plain": [
       "    quantile.df..c.0.9..0.75..0.5..0.25..0.1..\n",
       "90% 15.470                                    \n",
       "75% 15.115                                    \n",
       "50% 14.570                                    \n",
       "25% 14.070                                    \n",
       "10% 13.676                                    "
      ]
     },
     "metadata": {},
     "output_type": "display_data"
    }
   ],
   "source": [
    "# 求指定位置的分位数\n",
    "data.frame(quantile(df,c(0.9,0.75,0.5,0.25,0.1)))"
   ]
  },
  {
   "cell_type": "code",
   "execution_count": 25,
   "id": "52791582",
   "metadata": {
    "vscode": {
     "languageId": "r"
    }
   },
   "outputs": [
    {
     "name": "stderr",
     "output_type": "stream",
     "text": [
      "Loading required package: MASS\n",
      "\n",
      "\n",
      "Attaching package: 'MASS'\n",
      "\n",
      "\n",
      "The following object is masked from 'package:dplyr':\n",
      "\n",
      "    select\n",
      "\n",
      "\n",
      "Loading required package: survival\n",
      "\n"
     ]
    },
    {
     "data": {
      "text/plain": [
       "summary statistics\n",
       "------\n",
       "min:  12.28   max:  17.09 \n",
       "median:  14.57 \n",
       "mean:  14.58 \n",
       "estimated sd:  0.7764197 \n",
       "estimated skewness:  0.02759178 \n",
       "estimated kurtosis:  4.673903 "
      ]
     },
     "metadata": {},
     "output_type": "display_data"
    },
    {
     "data": {
      "image/png": "[encoded data removed]",
      "text/plain": [
       "Plot with title \"Cullen and Frey graph\""
      ]
     },
     "metadata": {
      "image/png": {
       "height": 420,
       "width": 420
      }
     },
     "output_type": "display_data"
    }
   ],
   "source": [
    "# 验证是否为正态分布\n",
    "library(fitdistrplus)\n",
    "descdist(df)"
   ]
  },
  {
   "cell_type": "markdown",
   "id": "9eb40734",
   "metadata": {},
   "source": [
    "首先我们从峰度和偏度的角度进行分析：\n",
    "\n",
    "峰度（kurtosis）表示分布的尖锐程度。正态分布的峰度为3，>3说明峰比正态分布的尖，<3说明峰比正态分布的平坦。\n",
    "\n",
    "偏度（skewness）表示分布的偏离对称的程度。正态分布的偏度为0，偏度>0为右偏， 众数 < 中位数 < 算术平均值；偏度<0 为左偏，算术平均值 < 中位数 < 众数。\n",
    "\n",
    "本题中的数据显然峰度较高，相较于正态分布，这个数据更接近逻辑分布。"
   ]
  },
  {
   "cell_type": "code",
   "execution_count": 26,
   "id": "539c2bfe",
   "metadata": {
    "vscode": {
     "languageId": "r"
    }
   },
   "outputs": [
    {
     "name": "stderr",
     "output_type": "stream",
     "text": [
      "Warning message in ks.test(df, \"pnorm\"):\n",
      "\"ties should not be present for the Kolmogorov-Smirnov test\"\n"
     ]
    },
    {
     "data": {
      "text/plain": [
       "\n",
       "\tOne-sample Kolmogorov-Smirnov test\n",
       "\n",
       "data:  df\n",
       "D = 1, p-value < 2.2e-16\n",
       "alternative hypothesis: two-sided\n"
      ]
     },
     "metadata": {},
     "output_type": "display_data"
    }
   ],
   "source": [
    "# 最后从统计上进行检验\n",
    "ks.test(df,'pnorm')"
   ]
  },
  {
   "cell_type": "markdown",
   "id": "9c2317f9",
   "metadata": {},
   "source": [
    "Kolmogorov-smirnov检验可以验证单一样本是否来自某一特定分布。比如检验一组数据是否为正态分布α。它的检验方法是以样本数据的累积频数分布与特定理论分布比较,若两者间的差距很小,则推论该样本取自某特定分布族。\n",
    "\n",
    "根据结果p- value << 0.05,拒绝原假设,即认为数据不满足正态分布。"
   ]
  },
  {
   "cell_type": "markdown",
   "id": "2dbc58e6",
   "metadata": {},
   "source": [
    "### 1.12"
   ]
  },
  {
   "cell_type": "code",
   "execution_count": 16,
   "id": "379f733c",
   "metadata": {
    "vscode": {
     "languageId": "r"
    }
   },
   "outputs": [
    {
     "data": {
      "text/html": [
       "<table class=\"dataframe\">\n",
       "<caption>A tibble: 70 × 3</caption>\n",
       "<thead>\n",
       "\t<tr><th scope=col>group</th><th scope=col>time</th><th scope=col>perpon</th></tr>\n",
       "\t<tr><th scope=col>&lt;dbl&gt;</th><th scope=col>&lt;dbl&gt;</th><th scope=col>&lt;chr&gt;</th></tr>\n",
       "</thead>\n",
       "<tbody>\n",
       "\t<tr><td>0</td><td>174</td><td>BG</td></tr>\n",
       "\t<tr><td>1</td><td>263</td><td>BG</td></tr>\n",
       "\t<tr><td>2</td><td>105</td><td>BG</td></tr>\n",
       "\t<tr><td>3</td><td>141</td><td>BG</td></tr>\n",
       "\t<tr><td>4</td><td>199</td><td>BG</td></tr>\n",
       "\t<tr><td>5</td><td>108</td><td>BG</td></tr>\n",
       "\t<tr><td>6</td><td>141</td><td>BG</td></tr>\n",
       "\t<tr><td>0</td><td>224</td><td>JF</td></tr>\n",
       "\t<tr><td>1</td><td>213</td><td>JF</td></tr>\n",
       "\t<tr><td>2</td><td>103</td><td>JF</td></tr>\n",
       "\t<tr><td>3</td><td>168</td><td>JF</td></tr>\n",
       "\t<tr><td>4</td><td>143</td><td>JF</td></tr>\n",
       "\t<tr><td>5</td><td>341</td><td>JF</td></tr>\n",
       "\t<tr><td>6</td><td>184</td><td>JF</td></tr>\n",
       "\t<tr><td>0</td><td>260</td><td>BS</td></tr>\n",
       "\t<tr><td>1</td><td>231</td><td>BS</td></tr>\n",
       "\t<tr><td>2</td><td>145</td><td>BS</td></tr>\n",
       "\t<tr><td>3</td><td> 78</td><td>BS</td></tr>\n",
       "\t<tr><td>4</td><td>113</td><td>BS</td></tr>\n",
       "\t<tr><td>5</td><td>159</td><td>BS</td></tr>\n",
       "\t<tr><td>6</td><td>125</td><td>BS</td></tr>\n",
       "\t<tr><td>0</td><td>255</td><td>SI</td></tr>\n",
       "\t<tr><td>1</td><td>291</td><td>SI</td></tr>\n",
       "\t<tr><td>2</td><td>103</td><td>SI</td></tr>\n",
       "\t<tr><td>3</td><td>164</td><td>SI</td></tr>\n",
       "\t<tr><td>4</td><td>225</td><td>SI</td></tr>\n",
       "\t<tr><td>5</td><td>135</td><td>SI</td></tr>\n",
       "\t<tr><td>6</td><td>227</td><td>SI</td></tr>\n",
       "\t<tr><td>0</td><td>165</td><td>BW</td></tr>\n",
       "\t<tr><td>1</td><td>168</td><td>BW</td></tr>\n",
       "\t<tr><td>...</td><td>...</td><td>...</td></tr>\n",
       "\t<tr><td>5</td><td>136</td><td>TS</td></tr>\n",
       "\t<tr><td>6</td><td>155</td><td>TS</td></tr>\n",
       "\t<tr><td>0</td><td>191</td><td>GM</td></tr>\n",
       "\t<tr><td>1</td><td>137</td><td>GM</td></tr>\n",
       "\t<tr><td>2</td><td> 35</td><td>GM</td></tr>\n",
       "\t<tr><td>3</td><td> 96</td><td>GM</td></tr>\n",
       "\t<tr><td>4</td><td> 87</td><td>GM</td></tr>\n",
       "\t<tr><td>5</td><td>140</td><td>GM</td></tr>\n",
       "\t<tr><td>6</td><td>121</td><td>GM</td></tr>\n",
       "\t<tr><td>0</td><td>100</td><td>SS</td></tr>\n",
       "\t<tr><td>1</td><td>102</td><td>SS</td></tr>\n",
       "\t<tr><td>2</td><td>133</td><td>SS</td></tr>\n",
       "\t<tr><td>3</td><td>222</td><td>SS</td></tr>\n",
       "\t<tr><td>4</td><td>120</td><td>SS</td></tr>\n",
       "\t<tr><td>5</td><td>134</td><td>SS</td></tr>\n",
       "\t<tr><td>6</td><td>129</td><td>SS</td></tr>\n",
       "\t<tr><td>0</td><td>115</td><td>MU</td></tr>\n",
       "\t<tr><td>1</td><td> 89</td><td>MU</td></tr>\n",
       "\t<tr><td>2</td><td> 83</td><td>MU</td></tr>\n",
       "\t<tr><td>3</td><td>165</td><td>MU</td></tr>\n",
       "\t<tr><td>4</td><td>100</td><td>MU</td></tr>\n",
       "\t<tr><td>5</td><td>185</td><td>MU</td></tr>\n",
       "\t<tr><td>6</td><td> 79</td><td>MU</td></tr>\n",
       "\t<tr><td>0</td><td>189</td><td>OS</td></tr>\n",
       "\t<tr><td>1</td><td>433</td><td>OS</td></tr>\n",
       "\t<tr><td>2</td><td>237</td><td>OS</td></tr>\n",
       "\t<tr><td>3</td><td>168</td><td>OS</td></tr>\n",
       "\t<tr><td>4</td><td>173</td><td>OS</td></tr>\n",
       "\t<tr><td>5</td><td>188</td><td>OS</td></tr>\n",
       "\t<tr><td>6</td><td>317</td><td>OS</td></tr>\n",
       "</tbody>\n",
       "</table>\n"
      ],
      "text/latex": [
       "A tibble: 70 × 3\n",
       "\\begin{tabular}{lll}\n",
       " group & time & perpon\\\\\n",
       " <dbl> & <dbl> & <chr>\\\\\n",
       "\\hline\n",
       "\t 0 & 174 & BG\\\\\n",
       "\t 1 & 263 & BG\\\\\n",
       "\t 2 & 105 & BG\\\\\n",
       "\t 3 & 141 & BG\\\\\n",
       "\t 4 & 199 & BG\\\\\n",
       "\t 5 & 108 & BG\\\\\n",
       "\t 6 & 141 & BG\\\\\n",
       "\t 0 & 224 & JF\\\\\n",
       "\t 1 & 213 & JF\\\\\n",
       "\t 2 & 103 & JF\\\\\n",
       "\t 3 & 168 & JF\\\\\n",
       "\t 4 & 143 & JF\\\\\n",
       "\t 5 & 341 & JF\\\\\n",
       "\t 6 & 184 & JF\\\\\n",
       "\t 0 & 260 & BS\\\\\n",
       "\t 1 & 231 & BS\\\\\n",
       "\t 2 & 145 & BS\\\\\n",
       "\t 3 &  78 & BS\\\\\n",
       "\t 4 & 113 & BS\\\\\n",
       "\t 5 & 159 & BS\\\\\n",
       "\t 6 & 125 & BS\\\\\n",
       "\t 0 & 255 & SI\\\\\n",
       "\t 1 & 291 & SI\\\\\n",
       "\t 2 & 103 & SI\\\\\n",
       "\t 3 & 164 & SI\\\\\n",
       "\t 4 & 225 & SI\\\\\n",
       "\t 5 & 135 & SI\\\\\n",
       "\t 6 & 227 & SI\\\\\n",
       "\t 0 & 165 & BW\\\\\n",
       "\t 1 & 168 & BW\\\\\n",
       "\t ... & ... & ...\\\\\n",
       "\t 5 & 136 & TS\\\\\n",
       "\t 6 & 155 & TS\\\\\n",
       "\t 0 & 191 & GM\\\\\n",
       "\t 1 & 137 & GM\\\\\n",
       "\t 2 &  35 & GM\\\\\n",
       "\t 3 &  96 & GM\\\\\n",
       "\t 4 &  87 & GM\\\\\n",
       "\t 5 & 140 & GM\\\\\n",
       "\t 6 & 121 & GM\\\\\n",
       "\t 0 & 100 & SS\\\\\n",
       "\t 1 & 102 & SS\\\\\n",
       "\t 2 & 133 & SS\\\\\n",
       "\t 3 & 222 & SS\\\\\n",
       "\t 4 & 120 & SS\\\\\n",
       "\t 5 & 134 & SS\\\\\n",
       "\t 6 & 129 & SS\\\\\n",
       "\t 0 & 115 & MU\\\\\n",
       "\t 1 &  89 & MU\\\\\n",
       "\t 2 &  83 & MU\\\\\n",
       "\t 3 & 165 & MU\\\\\n",
       "\t 4 & 100 & MU\\\\\n",
       "\t 5 & 185 & MU\\\\\n",
       "\t 6 &  79 & MU\\\\\n",
       "\t 0 & 189 & OS\\\\\n",
       "\t 1 & 433 & OS\\\\\n",
       "\t 2 & 237 & OS\\\\\n",
       "\t 3 & 168 & OS\\\\\n",
       "\t 4 & 173 & OS\\\\\n",
       "\t 5 & 188 & OS\\\\\n",
       "\t 6 & 317 & OS\\\\\n",
       "\\end{tabular}\n"
      ],
      "text/markdown": [
       "\n",
       "A tibble: 70 × 3\n",
       "\n",
       "| group &lt;dbl&gt; | time &lt;dbl&gt; | perpon &lt;chr&gt; |\n",
       "|---|---|---|\n",
       "| 0 | 174 | BG |\n",
       "| 1 | 263 | BG |\n",
       "| 2 | 105 | BG |\n",
       "| 3 | 141 | BG |\n",
       "| 4 | 199 | BG |\n",
       "| 5 | 108 | BG |\n",
       "| 6 | 141 | BG |\n",
       "| 0 | 224 | JF |\n",
       "| 1 | 213 | JF |\n",
       "| 2 | 103 | JF |\n",
       "| 3 | 168 | JF |\n",
       "| 4 | 143 | JF |\n",
       "| 5 | 341 | JF |\n",
       "| 6 | 184 | JF |\n",
       "| 0 | 260 | BS |\n",
       "| 1 | 231 | BS |\n",
       "| 2 | 145 | BS |\n",
       "| 3 |  78 | BS |\n",
       "| 4 | 113 | BS |\n",
       "| 5 | 159 | BS |\n",
       "| 6 | 125 | BS |\n",
       "| 0 | 255 | SI |\n",
       "| 1 | 291 | SI |\n",
       "| 2 | 103 | SI |\n",
       "| 3 | 164 | SI |\n",
       "| 4 | 225 | SI |\n",
       "| 5 | 135 | SI |\n",
       "| 6 | 227 | SI |\n",
       "| 0 | 165 | BW |\n",
       "| 1 | 168 | BW |\n",
       "| ... | ... | ... |\n",
       "| 5 | 136 | TS |\n",
       "| 6 | 155 | TS |\n",
       "| 0 | 191 | GM |\n",
       "| 1 | 137 | GM |\n",
       "| 2 |  35 | GM |\n",
       "| 3 |  96 | GM |\n",
       "| 4 |  87 | GM |\n",
       "| 5 | 140 | GM |\n",
       "| 6 | 121 | GM |\n",
       "| 0 | 100 | SS |\n",
       "| 1 | 102 | SS |\n",
       "| 2 | 133 | SS |\n",
       "| 3 | 222 | SS |\n",
       "| 4 | 120 | SS |\n",
       "| 5 | 134 | SS |\n",
       "| 6 | 129 | SS |\n",
       "| 0 | 115 | MU |\n",
       "| 1 |  89 | MU |\n",
       "| 2 |  83 | MU |\n",
       "| 3 | 165 | MU |\n",
       "| 4 | 100 | MU |\n",
       "| 5 | 185 | MU |\n",
       "| 6 |  79 | MU |\n",
       "| 0 | 189 | OS |\n",
       "| 1 | 433 | OS |\n",
       "| 2 | 237 | OS |\n",
       "| 3 | 168 | OS |\n",
       "| 4 | 173 | OS |\n",
       "| 5 | 188 | OS |\n",
       "| 6 | 317 | OS |\n",
       "\n"
      ],
      "text/plain": [
       "    group time perpon\n",
       "1   0     174  BG    \n",
       "2   1     263  BG    \n",
       "3   2     105  BG    \n",
       "4   3     141  BG    \n",
       "5   4     199  BG    \n",
       "6   5     108  BG    \n",
       "7   6     141  BG    \n",
       "8   0     224  JF    \n",
       "9   1     213  JF    \n",
       "10  2     103  JF    \n",
       "11  3     168  JF    \n",
       "12  4     143  JF    \n",
       "13  5     341  JF    \n",
       "14  6     184  JF    \n",
       "15  0     260  BS    \n",
       "16  1     231  BS    \n",
       "17  2     145  BS    \n",
       "18  3      78  BS    \n",
       "19  4     113  BS    \n",
       "20  5     159  BS    \n",
       "21  6     125  BS    \n",
       "22  0     255  SI    \n",
       "23  1     291  SI    \n",
       "24  2     103  SI    \n",
       "25  3     164  SI    \n",
       "26  4     225  SI    \n",
       "27  5     135  SI    \n",
       "28  6     227  SI    \n",
       "29  0     165  BW    \n",
       "30  1     168  BW    \n",
       "... ...   ...  ...   \n",
       "41  5     136  TS    \n",
       "42  6     155  TS    \n",
       "43  0     191  GM    \n",
       "44  1     137  GM    \n",
       "45  2      35  GM    \n",
       "46  3      96  GM    \n",
       "47  4      87  GM    \n",
       "48  5     140  GM    \n",
       "49  6     121  GM    \n",
       "50  0     100  SS    \n",
       "51  1     102  SS    \n",
       "52  2     133  SS    \n",
       "53  3     222  SS    \n",
       "54  4     120  SS    \n",
       "55  5     134  SS    \n",
       "56  6     129  SS    \n",
       "57  0     115  MU    \n",
       "58  1      89  MU    \n",
       "59  2      83  MU    \n",
       "60  3     165  MU    \n",
       "61  4     100  MU    \n",
       "62  5     185  MU    \n",
       "63  6      79  MU    \n",
       "64  0     189  OS    \n",
       "65  1     433  OS    \n",
       "66  2     237  OS    \n",
       "67  3     168  OS    \n",
       "68  4     173  OS    \n",
       "69  5     188  OS    \n",
       "70  6     317  OS    "
      ]
     },
     "metadata": {},
     "output_type": "display_data"
    }
   ],
   "source": [
    "# 导入数据\n",
    "library(readxl)\n",
    "drugdata<-read_excel(\"D://nonparametric//各章数据//第1章//drug.xlsx\")#导入数据\n",
    "drugdata"
   ]
  },
  {
   "cell_type": "code",
   "execution_count": 17,
   "id": "28bac523",
   "metadata": {
    "vscode": {
     "languageId": "r"
    }
   },
   "outputs": [
    {
     "data": {
      "text/html": [
       "<style>\n",
       ".list-inline {list-style: none; margin:0; padding: 0}\n",
       ".list-inline>li {display: inline-block}\n",
       ".list-inline>li:not(:last-child)::after {content: \"\\00b7\"; padding: 0 .5ex}\n",
       "</style>\n",
       "<ol class=list-inline><li>0</li><li>1</li><li>2</li><li>3</li><li>4</li><li>5</li><li>6</li><li>0</li><li>1</li><li>2</li><li>3</li><li>4</li><li>5</li><li>6</li><li>0</li><li>1</li><li>2</li><li>3</li><li>4</li><li>5</li><li>6</li><li>0</li><li>1</li><li>2</li><li>3</li><li>4</li><li>5</li><li>6</li><li>0</li><li>1</li><li>2</li><li>3</li><li>4</li><li>5</li><li>6</li><li>0</li><li>1</li><li>2</li><li>3</li><li>4</li><li>5</li><li>6</li><li>0</li><li>1</li><li>2</li><li>3</li><li>4</li><li>5</li><li>6</li><li>0</li><li>1</li><li>2</li><li>3</li><li>4</li><li>5</li><li>6</li><li>0</li><li>1</li><li>2</li><li>3</li><li>4</li><li>5</li><li>6</li><li>0</li><li>1</li><li>2</li><li>3</li><li>4</li><li>5</li><li>6</li></ol>\n"
      ],
      "text/latex": [
       "\\begin{enumerate*}\n",
       "\\item 0\n",
       "\\item 1\n",
       "\\item 2\n",
       "\\item 3\n",
       "\\item 4\n",
       "\\item 5\n",
       "\\item 6\n",
       "\\item 0\n",
       "\\item 1\n",
       "\\item 2\n",
       "\\item 3\n",
       "\\item 4\n",
       "\\item 5\n",
       "\\item 6\n",
       "\\item 0\n",
       "\\item 1\n",
       "\\item 2\n",
       "\\item 3\n",
       "\\item 4\n",
       "\\item 5\n",
       "\\item 6\n",
       "\\item 0\n",
       "\\item 1\n",
       "\\item 2\n",
       "\\item 3\n",
       "\\item 4\n",
       "\\item 5\n",
       "\\item 6\n",
       "\\item 0\n",
       "\\item 1\n",
       "\\item 2\n",
       "\\item 3\n",
       "\\item 4\n",
       "\\item 5\n",
       "\\item 6\n",
       "\\item 0\n",
       "\\item 1\n",
       "\\item 2\n",
       "\\item 3\n",
       "\\item 4\n",
       "\\item 5\n",
       "\\item 6\n",
       "\\item 0\n",
       "\\item 1\n",
       "\\item 2\n",
       "\\item 3\n",
       "\\item 4\n",
       "\\item 5\n",
       "\\item 6\n",
       "\\item 0\n",
       "\\item 1\n",
       "\\item 2\n",
       "\\item 3\n",
       "\\item 4\n",
       "\\item 5\n",
       "\\item 6\n",
       "\\item 0\n",
       "\\item 1\n",
       "\\item 2\n",
       "\\item 3\n",
       "\\item 4\n",
       "\\item 5\n",
       "\\item 6\n",
       "\\item 0\n",
       "\\item 1\n",
       "\\item 2\n",
       "\\item 3\n",
       "\\item 4\n",
       "\\item 5\n",
       "\\item 6\n",
       "\\end{enumerate*}\n"
      ],
      "text/markdown": [
       "1. 0\n",
       "2. 1\n",
       "3. 2\n",
       "4. 3\n",
       "5. 4\n",
       "6. 5\n",
       "7. 6\n",
       "8. 0\n",
       "9. 1\n",
       "10. 2\n",
       "11. 3\n",
       "12. 4\n",
       "13. 5\n",
       "14. 6\n",
       "15. 0\n",
       "16. 1\n",
       "17. 2\n",
       "18. 3\n",
       "19. 4\n",
       "20. 5\n",
       "21. 6\n",
       "22. 0\n",
       "23. 1\n",
       "24. 2\n",
       "25. 3\n",
       "26. 4\n",
       "27. 5\n",
       "28. 6\n",
       "29. 0\n",
       "30. 1\n",
       "31. 2\n",
       "32. 3\n",
       "33. 4\n",
       "34. 5\n",
       "35. 6\n",
       "36. 0\n",
       "37. 1\n",
       "38. 2\n",
       "39. 3\n",
       "40. 4\n",
       "41. 5\n",
       "42. 6\n",
       "43. 0\n",
       "44. 1\n",
       "45. 2\n",
       "46. 3\n",
       "47. 4\n",
       "48. 5\n",
       "49. 6\n",
       "50. 0\n",
       "51. 1\n",
       "52. 2\n",
       "53. 3\n",
       "54. 4\n",
       "55. 5\n",
       "56. 6\n",
       "57. 0\n",
       "58. 1\n",
       "59. 2\n",
       "60. 3\n",
       "61. 4\n",
       "62. 5\n",
       "63. 6\n",
       "64. 0\n",
       "65. 1\n",
       "66. 2\n",
       "67. 3\n",
       "68. 4\n",
       "69. 5\n",
       "70. 6\n",
       "\n",
       "\n"
      ],
      "text/plain": [
       " [1] 0 1 2 3 4 5 6 0 1 2 3 4 5 6 0 1 2 3 4 5 6 0 1 2 3 4 5 6 0 1 2 3 4 5 6 0 1 2\n",
       "[39] 3 4 5 6 0 1 2 3 4 5 6 0 1 2 3 4 5 6 0 1 2 3 4 5 6 0 1 2 3 4 5 6"
      ]
     },
     "metadata": {},
     "output_type": "display_data"
    },
    {
     "data": {
      "text/html": [
       "<style>\n",
       ".list-inline {list-style: none; margin:0; padding: 0}\n",
       ".list-inline>li {display: inline-block}\n",
       ".list-inline>li:not(:last-child)::after {content: \"\\00b7\"; padding: 0 .5ex}\n",
       "</style>\n",
       "<ol class=list-inline><li>174</li><li>263</li><li>105</li><li>141</li><li>199</li><li>108</li><li>141</li><li>224</li><li>213</li><li>103</li><li>168</li><li>143</li><li>341</li><li>184</li><li>260</li><li>231</li><li>145</li><li>78</li><li>113</li><li>159</li><li>125</li><li>255</li><li>291</li><li>103</li><li>164</li><li>225</li><li>135</li><li>227</li><li>165</li><li>168</li><li>144</li><li>127</li><li>176</li><li>239</li><li>194</li><li>237</li><li>121</li><li>94</li><li>114</li><li>144</li><li>136</li><li>155</li><li>191</li><li>137</li><li>35</li><li>96</li><li>87</li><li>140</li><li>121</li><li>100</li><li>102</li><li>133</li><li>222</li><li>120</li><li>134</li><li>129</li><li>115</li><li>89</li><li>83</li><li>165</li><li>100</li><li>185</li><li>79</li><li>189</li><li>433</li><li>237</li><li>168</li><li>173</li><li>188</li><li>317</li></ol>\n"
      ],
      "text/latex": [
       "\\begin{enumerate*}\n",
       "\\item 174\n",
       "\\item 263\n",
       "\\item 105\n",
       "\\item 141\n",
       "\\item 199\n",
       "\\item 108\n",
       "\\item 141\n",
       "\\item 224\n",
       "\\item 213\n",
       "\\item 103\n",
       "\\item 168\n",
       "\\item 143\n",
       "\\item 341\n",
       "\\item 184\n",
       "\\item 260\n",
       "\\item 231\n",
       "\\item 145\n",
       "\\item 78\n",
       "\\item 113\n",
       "\\item 159\n",
       "\\item 125\n",
       "\\item 255\n",
       "\\item 291\n",
       "\\item 103\n",
       "\\item 164\n",
       "\\item 225\n",
       "\\item 135\n",
       "\\item 227\n",
       "\\item 165\n",
       "\\item 168\n",
       "\\item 144\n",
       "\\item 127\n",
       "\\item 176\n",
       "\\item 239\n",
       "\\item 194\n",
       "\\item 237\n",
       "\\item 121\n",
       "\\item 94\n",
       "\\item 114\n",
       "\\item 144\n",
       "\\item 136\n",
       "\\item 155\n",
       "\\item 191\n",
       "\\item 137\n",
       "\\item 35\n",
       "\\item 96\n",
       "\\item 87\n",
       "\\item 140\n",
       "\\item 121\n",
       "\\item 100\n",
       "\\item 102\n",
       "\\item 133\n",
       "\\item 222\n",
       "\\item 120\n",
       "\\item 134\n",
       "\\item 129\n",
       "\\item 115\n",
       "\\item 89\n",
       "\\item 83\n",
       "\\item 165\n",
       "\\item 100\n",
       "\\item 185\n",
       "\\item 79\n",
       "\\item 189\n",
       "\\item 433\n",
       "\\item 237\n",
       "\\item 168\n",
       "\\item 173\n",
       "\\item 188\n",
       "\\item 317\n",
       "\\end{enumerate*}\n"
      ],
      "text/markdown": [
       "1. 174\n",
       "2. 263\n",
       "3. 105\n",
       "4. 141\n",
       "5. 199\n",
       "6. 108\n",
       "7. 141\n",
       "8. 224\n",
       "9. 213\n",
       "10. 103\n",
       "11. 168\n",
       "12. 143\n",
       "13. 341\n",
       "14. 184\n",
       "15. 260\n",
       "16. 231\n",
       "17. 145\n",
       "18. 78\n",
       "19. 113\n",
       "20. 159\n",
       "21. 125\n",
       "22. 255\n",
       "23. 291\n",
       "24. 103\n",
       "25. 164\n",
       "26. 225\n",
       "27. 135\n",
       "28. 227\n",
       "29. 165\n",
       "30. 168\n",
       "31. 144\n",
       "32. 127\n",
       "33. 176\n",
       "34. 239\n",
       "35. 194\n",
       "36. 237\n",
       "37. 121\n",
       "38. 94\n",
       "39. 114\n",
       "40. 144\n",
       "41. 136\n",
       "42. 155\n",
       "43. 191\n",
       "44. 137\n",
       "45. 35\n",
       "46. 96\n",
       "47. 87\n",
       "48. 140\n",
       "49. 121\n",
       "50. 100\n",
       "51. 102\n",
       "52. 133\n",
       "53. 222\n",
       "54. 120\n",
       "55. 134\n",
       "56. 129\n",
       "57. 115\n",
       "58. 89\n",
       "59. 83\n",
       "60. 165\n",
       "61. 100\n",
       "62. 185\n",
       "63. 79\n",
       "64. 189\n",
       "65. 433\n",
       "66. 237\n",
       "67. 168\n",
       "68. 173\n",
       "69. 188\n",
       "70. 317\n",
       "\n",
       "\n"
      ],
      "text/plain": [
       " [1] 174 263 105 141 199 108 141 224 213 103 168 143 341 184 260 231 145  78 113\n",
       "[20] 159 125 255 291 103 164 225 135 227 165 168 144 127 176 239 194 237 121  94\n",
       "[39] 114 144 136 155 191 137  35  96  87 140 121 100 102 133 222 120 134 129 115\n",
       "[58]  89  83 165 100 185  79 189 433 237 168 173 188 317"
      ]
     },
     "metadata": {},
     "output_type": "display_data"
    }
   ],
   "source": [
    "data2<-as.matrix(drugdata)#转化为矩阵\n",
    "Data2<-apply(data2,2,as.list) #转化为列表\n",
    "DrugDatagroup<-as.numeric(Data2$group)  #转换为数值型\n",
    "DrugDatagroup\n",
    "DrugDatatime<-as.numeric(Data2$time)  #转换为数值型\n",
    "DrugDatatime\n",
    "DRUG<-c(DrugDatatime,DrugDatagroup)#将time和group列转化为向量"
   ]
  },
  {
   "cell_type": "code",
   "execution_count": 18,
   "id": "0ab8e504",
   "metadata": {
    "vscode": {
     "languageId": "r"
    }
   },
   "outputs": [
    {
     "data": {
      "text/plain": [
       "Call: survfit(formula = Surv(DrugDatatime) ~ DrugDatagroup, data = DRUG1)\n",
       "\n",
       "                DrugDatagroup=0 \n",
       " time n.risk n.event survival std.err lower 95% CI upper 95% CI\n",
       "  100     10       1      0.9  0.0949       0.7320        1.000\n",
       "  115      9       1      0.8  0.1265       0.5868        1.000\n",
       "  165      8       1      0.7  0.1449       0.4665        1.000\n",
       "  174      7       1      0.6  0.1549       0.3617        0.995\n",
       "  189      6       1      0.5  0.1581       0.2690        0.929\n",
       "  191      5       1      0.4  0.1549       0.1872        0.855\n",
       "  224      4       1      0.3  0.1449       0.1164        0.773\n",
       "  237      3       1      0.2  0.1265       0.0579        0.691\n",
       "  255      2       1      0.1  0.0949       0.0156        0.642\n",
       "  260      1       1      0.0     NaN           NA           NA\n",
       "\n",
       "                DrugDatagroup=1 \n",
       " time n.risk n.event survival std.err lower 95% CI upper 95% CI\n",
       "   89     10       1      0.9  0.0949       0.7320        1.000\n",
       "  102      9       1      0.8  0.1265       0.5868        1.000\n",
       "  121      8       1      0.7  0.1449       0.4665        1.000\n",
       "  137      7       1      0.6  0.1549       0.3617        0.995\n",
       "  168      6       1      0.5  0.1581       0.2690        0.929\n",
       "  213      5       1      0.4  0.1549       0.1872        0.855\n",
       "  231      4       1      0.3  0.1449       0.1164        0.773\n",
       "  263      3       1      0.2  0.1265       0.0579        0.691\n",
       "  291      2       1      0.1  0.0949       0.0156        0.642\n",
       "  433      1       1      0.0     NaN           NA           NA\n",
       "\n",
       "                DrugDatagroup=2 \n",
       " time n.risk n.event survival std.err lower 95% CI upper 95% CI\n",
       "   35     10       1      0.9  0.0949       0.7320        1.000\n",
       "   83      9       1      0.8  0.1265       0.5868        1.000\n",
       "   94      8       1      0.7  0.1449       0.4665        1.000\n",
       "  103      7       2      0.5  0.1581       0.2690        0.929\n",
       "  105      5       1      0.4  0.1549       0.1872        0.855\n",
       "  133      4       1      0.3  0.1449       0.1164        0.773\n",
       "  144      3       1      0.2  0.1265       0.0579        0.691\n",
       "  145      2       1      0.1  0.0949       0.0156        0.642\n",
       "  237      1       1      0.0     NaN           NA           NA\n",
       "\n",
       "                DrugDatagroup=3 \n",
       " time n.risk n.event survival std.err lower 95% CI upper 95% CI\n",
       "   78     10       1      0.9  0.0949       0.7320        1.000\n",
       "   96      9       1      0.8  0.1265       0.5868        1.000\n",
       "  114      8       1      0.7  0.1449       0.4665        1.000\n",
       "  127      7       1      0.6  0.1549       0.3617        0.995\n",
       "  141      6       1      0.5  0.1581       0.2690        0.929\n",
       "  164      5       1      0.4  0.1549       0.1872        0.855\n",
       "  165      4       1      0.3  0.1449       0.1164        0.773\n",
       "  168      3       2      0.1  0.0949       0.0156        0.642\n",
       "  222      1       1      0.0     NaN           NA           NA\n",
       "\n",
       "                DrugDatagroup=4 \n",
       " time n.risk n.event survival std.err lower 95% CI upper 95% CI\n",
       "   87     10       1      0.9  0.0949       0.7320        1.000\n",
       "  100      9       1      0.8  0.1265       0.5868        1.000\n",
       "  113      8       1      0.7  0.1449       0.4665        1.000\n",
       "  120      7       1      0.6  0.1549       0.3617        0.995\n",
       "  143      6       1      0.5  0.1581       0.2690        0.929\n",
       "  144      5       1      0.4  0.1549       0.1872        0.855\n",
       "  173      4       1      0.3  0.1449       0.1164        0.773\n",
       "  176      3       1      0.2  0.1265       0.0579        0.691\n",
       "  199      2       1      0.1  0.0949       0.0156        0.642\n",
       "  225      1       1      0.0     NaN           NA           NA\n",
       "\n",
       "                DrugDatagroup=5 \n",
       " time n.risk n.event survival std.err lower 95% CI upper 95% CI\n",
       "  108     10       1      0.9  0.0949       0.7320        1.000\n",
       "  134      9       1      0.8  0.1265       0.5868        1.000\n",
       "  135      8       1      0.7  0.1449       0.4665        1.000\n",
       "  136      7       1      0.6  0.1549       0.3617        0.995\n",
       "  140      6       1      0.5  0.1581       0.2690        0.929\n",
       "  159      5       1      0.4  0.1549       0.1872        0.855\n",
       "  185      4       1      0.3  0.1449       0.1164        0.773\n",
       "  188      3       1      0.2  0.1265       0.0579        0.691\n",
       "  239      2       1      0.1  0.0949       0.0156        0.642\n",
       "  341      1       1      0.0     NaN           NA           NA\n",
       "\n",
       "                DrugDatagroup=6 \n",
       " time n.risk n.event survival std.err lower 95% CI upper 95% CI\n",
       "   79     10       1      0.9  0.0949       0.7320        1.000\n",
       "  121      9       1      0.8  0.1265       0.5868        1.000\n",
       "  125      8       1      0.7  0.1449       0.4665        1.000\n",
       "  129      7       1      0.6  0.1549       0.3617        0.995\n",
       "  141      6       1      0.5  0.1581       0.2690        0.929\n",
       "  155      5       1      0.4  0.1549       0.1872        0.855\n",
       "  184      4       1      0.3  0.1449       0.1164        0.773\n",
       "  194      3       1      0.2  0.1265       0.0579        0.691\n",
       "  227      2       1      0.1  0.0949       0.0156        0.642\n",
       "  317      1       1      0.0     NaN           NA           NA\n"
      ]
     },
     "metadata": {},
     "output_type": "display_data"
    }
   ],
   "source": [
    "DRUG1<-data.frame(matrix(lapply(DRUG,as.character),nrow=2))#转换为dataframe\n",
    "\n",
    "library(\"survival\") \n",
    "fit <- survfit(Surv(DrugDatatime) ~ DrugDatagroup, data = DRUG1)  #拟合生存曲线\n",
    "summary(fit)"
   ]
  },
  {
   "cell_type": "code",
   "execution_count": 21,
   "id": "77253974",
   "metadata": {
    "vscode": {
     "languageId": "r"
    }
   },
   "outputs": [
    {
     "name": "stderr",
     "output_type": "stream",
     "text": [
      "Loading required package: ggplot2\n",
      "\n",
      "Loading required package: ggpubr\n",
      "\n",
      "\n",
      "Attaching package: 'survminer'\n",
      "\n",
      "\n",
      "The following object is masked from 'package:survival':\n",
      "\n",
      "    myeloma\n",
      "\n",
      "\n"
     ]
    },
    {
     "data": {
      "image/png": "[encoded data removed]",
      "text/plain": [
       "plot without title"
      ]
     },
     "metadata": {
      "image/png": {
       "height": 420,
       "width": 420
      }
     },
     "output_type": "display_data"
    },
    {
     "data": {
      "image/png": "[encoded data removed]",
      "text/plain": [
       "plot without title"
      ]
     },
     "metadata": {
      "image/png": {
       "height": 420,
       "width": 420
      }
     },
     "output_type": "display_data"
    }
   ],
   "source": [
    "#结果的形象化展示\n",
    "plot(fit)\n",
    "library(survminer) #用survminer进行漂亮的展示\n",
    "ggsurvplot(fit, main = \"Survival curve\", data = DRUG1,\n",
    "           pval=TRUE  #添加P值\n",
    ")"
   ]
  },
  {
   "cell_type": "markdown",
   "id": "bc78cab8",
   "metadata": {},
   "source": [
    "p值小于0.05，拒绝原假设，说明不同药剂减少瘙痒时间的效果有显著差异"
   ]
  },
  {
   "cell_type": "markdown",
   "id": "12fa07e7",
   "metadata": {},
   "source": [
    "## 练习"
   ]
  },
  {
   "cell_type": "code",
   "execution_count": 6,
   "id": "eb09972a",
   "metadata": {
    "vscode": {
     "languageId": "r"
    }
   },
   "outputs": [
    {
     "data": {
      "image/png": "[encoded data removed]",
      "text/plain": [
       "plot without title"
      ]
     },
     "metadata": {
      "image/png": {
       "height": 420,
       "width": 420
      }
     },
     "output_type": "display_data"
    }
   ],
   "source": [
    "### 实验一：经验分布的置信区间\n",
    "\n",
    "library(MASS)\n",
    "data(geyser)\n",
    "duration = geyser[,2]\n",
    "duration.sort = sort(duration)\n",
    "duration.rank = rank(duration.sort)\n",
    "duration.cdf = duration.rank/length(duration)\n",
    "plot(duration.sort,duration.cdf)\n",
    "\n",
    "N = length(duration)\n",
    "segments(duration.sort[1:(N-1)],duration.cdf[1:(N-1)],duration.sort[2:N],duration.cdf[1:(N-1)])\n",
    "alpha = 0.5\n",
    "band = sqrt(1/(2*N))*log(2/alpha)\n",
    "lower.95 = duration.cdf - band\n",
    "upper.95 = duration.cdf + band\n",
    "lines(duration.sort,lower.95,lty = 2)\n",
    "lines(duration.sort,upper.95)"
   ]
  },
  {
   "cell_type": "code",
   "execution_count": 7,
   "id": "bbfe771d",
   "metadata": {
    "vscode": {
     "languageId": "r"
    }
   },
   "outputs": [
    {
     "data": {
      "image/png": "[encoded data removed]",
      "text/plain": [
       "plot without title"
      ]
     },
     "metadata": {
      "image/png": {
       "height": 420,
       "width": 420
      }
     },
     "output_type": "display_data"
    }
   ],
   "source": [
    "alpha = seq(0.01,0.1,by = 0.001)\n",
    "band = sqrt(1/(2*N))*log(2/alpha)\n",
    "plot(alpha,band)"
   ]
  },
  {
   "cell_type": "markdown",
   "id": "e0b480ae",
   "metadata": {},
   "source": [
    "可见，置信区间宽度随a值的增大而变小"
   ]
  },
  {
   "cell_type": "code",
   "execution_count": 9,
   "id": "17e5d0f5",
   "metadata": {
    "vscode": {
     "languageId": "r"
    }
   },
   "outputs": [],
   "source": [
    "### U统计量 \n",
    "# (1)从t分布中产生样本量为20的样本\n",
    "# (2)计算用于检验样本对称性的U统计量\n",
    "# (3)观察U统计量的分布\n",
    "# (4)判断分布的对称性\n",
    "# ctrl+/ 全部加注释；再按一次就是取消注释\n",
    "\n",
    "Ufund = function(df,n)\n",
    "{\n",
    "    USTAT = NULL\n",
    "    for(mu in 1:n)\n",
    "    {\n",
    "        x = rt(20,df)\n",
    "        n1 = length(x)\n",
    "        H = NULL\n",
    "        for(i in 1:(n1-2))\n",
    "        for(j in (i+1):(n1-1))\n",
    "        for(k in (j+1):n1)\n",
    "        { \n",
    "            a1 = sign(2*x[i]-x[j]-x[k]) # sign(x)为示性函数\n",
    "            a2 = sign(2*x[j]-x[i]-x[k])\n",
    "            a3 = sign(2*x[k]-x[i]-x[j])\n",
    "            h = 1/3*(a1+a2+a3)\n",
    "            H = c(H,h)\n",
    "        }\n",
    "        Ustat = (1/choose(length(x),3))*sum(H)  # 计算对称核\n",
    "        USTAT = c(USTAT,Ustat)\n",
    "    }\n",
    "    hist(USTAT,border=F,col = 'gray1')\n",
    "    list(Umean = mean(USTAT),Uvar = var(USTAT))\n",
    "}"
   ]
  },
  {
   "cell_type": "code",
   "execution_count": 11,
   "id": "725732f8",
   "metadata": {
    "vscode": {
     "languageId": "r"
    }
   },
   "outputs": [
    {
     "data": {
      "text/html": [
       "<dl>\n",
       "\t<dt>$Umean</dt>\n",
       "\t\t<dd>-0.000124756335282651</dd>\n",
       "\t<dt>$Uvar</dt>\n",
       "\t\t<dd>0.00250694676390342</dd>\n",
       "</dl>\n"
      ],
      "text/latex": [
       "\\begin{description}\n",
       "\\item[\\$Umean] -0.000124756335282651\n",
       "\\item[\\$Uvar] 0.00250694676390342\n",
       "\\end{description}\n"
      ],
      "text/markdown": [
       "$Umean\n",
       ":   -0.000124756335282651\n",
       "$Uvar\n",
       ":   0.00250694676390342\n",
       "\n",
       "\n"
      ],
      "text/plain": [
       "$Umean\n",
       "[1] -0.0001247563\n",
       "\n",
       "$Uvar\n",
       "[1] 0.002506947\n"
      ]
     },
     "metadata": {},
     "output_type": "display_data"
    },
    {
     "data": {
      "image/png": "[encoded data removed]",
      "text/plain": [
       "Plot with title \"Histogram of USTAT\""
      ]
     },
     "metadata": {
      "image/png": {
       "height": 420,
       "width": 420
      }
     },
     "output_type": "display_data"
    }
   ],
   "source": [
    "Ufund(3,300)"
   ]
  },
  {
   "cell_type": "markdown",
   "id": "c8daa12d",
   "metadata": {},
   "source": [
    "（1）从直方图来看，U统计量近似以0为中心呈对称分布\n",
    "\n",
    "（2）Umean近似为0，即θ(p)接近0\n",
    "\n",
    "（3）t分布是对称的"
   ]
  },
  {
   "cell_type": "markdown",
   "id": "2d8d44c1",
   "metadata": {},
   "source": []
  }
 ],
 "metadata": {
  "kernelspec": {
   "display_name": "R",
   "language": "R",
   "name": "ir"
  },
  "language_info": {
   "codemirror_mode": "r",
   "file_extension": ".r",
   "mimetype": "text/x-r-source",
   "name": "R",
   "pygments_lexer": "r",
   "version": "4.1.3"
  }
 },
 "nbformat": 4,
 "nbformat_minor": 5
}

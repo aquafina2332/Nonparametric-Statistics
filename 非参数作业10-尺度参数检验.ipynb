{
 "cells": [
  {
   "cell_type": "markdown",
   "id": "2f9c9e06",
   "metadata": {},
   "source": [
    "# 3.1"
   ]
  },
  {
   "cell_type": "markdown",
   "id": "cfa4cc80",
   "metadata": {},
   "source": [
    "**（1）给出实验的零假设**\n",
    "\n",
    "由于我们想研究毒品是否会增强人体的攻击性，出于谨慎性的原则，将毒品不能增强人体的攻击性作为原假设。结合题目可知，组A代表使用安慰剂的群体，组B代表使用毒品的群体，如果组A的得分水平显著低于组B的得分水平，则说明支持备择假设。相应地，原假设的含义为组A的得分水平高于或等于组B的得分水平，即：\n",
    "\n",
    "$$ H_{0}\\colon M_{a}\\geq M_{b}\\quad H_{1}\\colon M_{a}\\lt M_{b} $$"
   ]
  },
  {
   "cell_type": "markdown",
   "id": "3c10d4aa",
   "metadata": {},
   "source": [
    "**（2）画出表现这些数据特点的曲线图**"
   ]
  },
  {
   "cell_type": "code",
   "execution_count": 26,
   "id": "2682d77a",
   "metadata": {
    "vscode": {
     "languageId": "r"
    }
   },
   "outputs": [
    {
     "data": {
      "image/png": "[encoded data removed]",
      "text/plain": [
       "plot without title"
      ]
     },
     "metadata": {
      "image/png": {
       "height": 420,
       "width": 420
      }
     },
     "output_type": "display_data"
    }
   ],
   "source": [
    "a = c(10,8,12,16,5,9,7,11,6)\n",
    "b = c(12,15,20,18,13,14,9,16)\n",
    "\n",
    "par(mfrow=c(1,2))\n",
    "plot(seq(length(a)),a,'o')\n",
    "plot(seq(length(b)),b,'o')"
   ]
  },
  {
   "cell_type": "markdown",
   "id": "d70cac0e",
   "metadata": {},
   "source": [
    "可以看到，a组的得分大约在6-16范围内，b组的得分大约在10-20范围内。\n",
    "\n",
    "**（3）分析这些数据用哪种检验方法最合适**\n",
    "\n",
    "我们希望比较两组总体的位置参数是否相同。Wilcoxon秩和检验主要针对两样本量相同的情况，而Brown-Mood检验与符号检验的思想类似，仅仅比较了两组数据的符号。并且，根据绘制的直方图我们知道，a样本的总体不像是正态分布，而两个总体的分布有类似的形状。因此综上所述，我们应当使用Wilcoxon-Mann-Whitney检验（简称W-M-W检验）。这种方法适用于样本量不同时的比较，并且能够利用到数据的位置的信息。"
   ]
  },
  {
   "cell_type": "code",
   "execution_count": 27,
   "id": "9362efac",
   "metadata": {
    "vscode": {
     "languageId": "r"
    }
   },
   "outputs": [
    {
     "data": {
      "image/png": "[encoded data removed]",
      "text/plain": [
       "Plot with title \"Histogram of b\""
      ]
     },
     "metadata": {
      "image/png": {
       "height": 420,
       "width": 420
      }
     },
     "output_type": "display_data"
    }
   ],
   "source": [
    "par(mfrow=c(1,2))\n",
    "hist(a)\n",
    "hist(b)"
   ]
  },
  {
   "cell_type": "markdown",
   "id": "b570bb76",
   "metadata": {},
   "source": [
    "**（4）使用W-M-W检验对数据进行检验**"
   ]
  },
  {
   "cell_type": "code",
   "execution_count": 28,
   "id": "c835747c",
   "metadata": {
    "vscode": {
     "languageId": "r"
    }
   },
   "outputs": [
    {
     "name": "stderr",
     "output_type": "stream",
     "text": [
      "Warning message in wilcox.test.default(x = c(10, 8, 12, 16, 5, 9, 7, 11, 6), y = c(12, :\n",
      "\"cannot compute exact p-value with ties\"\n"
     ]
    },
    {
     "data": {
      "text/plain": [
       "\n",
       "\tWilcoxon rank sum test with continuity correction\n",
       "\n",
       "data:  score by group\n",
       "W = 9.5, p-value = 0.006097\n",
       "alternative hypothesis: true location shift is less than 0\n"
      ]
     },
     "metadata": {},
     "output_type": "display_data"
    }
   ],
   "source": [
    "my_data <- data.frame( group = c(rep(\"A\",9),rep(\"B\",8)),\n",
    "                       score = c(a, b) )\n",
    "wilcox.test(score ~ group, data = my_data,alternative = \"less\",paired=FALSE)"
   ]
  },
  {
   "cell_type": "markdown",
   "id": "f312921c",
   "metadata": {},
   "source": [
    "\n",
    "**（5）解释数据**\n",
    "\n",
    "由于我们的备择假设是B组的得分大于A组的得分，而检验的p值为0.006，小于显着性水平alpha = 0.05，因而拒绝原假设，认为毒品能显著增强人体的攻击性。\n",
    "\n",
    "由于p值已经达到了0.006，将近0，因此我们有理由拒绝原假设而接受备择假设。但是由于数据过少，是小样本数据，偶然性过大，难以对真实情况做出可靠的统计推断。样本大小大于30时，检验的效果最好。"
   ]
  },
  {
   "cell_type": "markdown",
   "id": "3161fb7e",
   "metadata": {},
   "source": [
    "# 3.2"
   ]
  },
  {
   "cell_type": "markdown",
   "id": "bbdcd6fa",
   "metadata": {},
   "source": [
    "**（1、3）q分位数检验内容**\n",
    "\n",
    "为了对两个总体的分位数进行检验，这里我们使用BM检验。首先，假设有两组来自不同分布 $\\mathrm{F}(\\mathrm{x})$ 和 $\\mathrm{F}(\\mathrm{x}-\\mathrm{u})$ 的相互独立的样本，有相应的 $\\mathrm{q}$ 分位数 $q_{X}$ 和 $q_{Y}$.则假设检验问题为:\n",
    "\n",
    "$$\n",
    "H_{0}: q_{X}=q_{Y} \\quad H_{1}: q_{X} \\neq q_{Y}\n",
    "$$\n",
    "\n",
    "在零假设下, 如果两组数据有相同的 q 分位数, 则将两组数据混合以后, 两组数据的混合中位数 $q_{X Y}$ 与 $q_{X}$ 和 $q_{Y}$ 相等。因此, 我们首先找出混合数据中样本的 $\\mathrm{q}$ 分位数 $Q_{X Y}$, 用 $\\mathrm{A}$ 表示 $\\mathrm{X}$ 样本中大于 $Q_{X Y}$ 的点数, $\\mathrm{t}$ 表示混合样本中大于 $Q_{X Y}$ 的样本点的 个数。设 $X$ 和 $Y$ 的样本量分别为 $m$ 和 $n$ 。当给定 $m 、 n$ 和 $t$ 时，如果 $A$ 的数值过大或者过小, 则考虑拒绝原假设, 接受备 择假设。该检验中的 $P$ 值定义如下:\n",
    "\n",
    "$$\n",
    "2 \\min \\left\\{P_{\\text {hyper }}(\\mathrm{A} \\leq \\mathrm{a}), P_{\\text {hyper }}(\\mathrm{A} \\geq \\mathrm{a})\\right\\}\n",
    "$$\n",
    "\n",
    "对于水平 $\\mathrm{a}$, 如果 $\\mathrm{P}$ 值 $<\\mathrm{a}$, 拒绝 $H_{0}$ ，认为两样本的总体没有相同的 $\\mathrm{q}$ 分位数；否则不能拒绝。\n",
    "\n",
    "在大样本的时候, 在零假设下, 可以利用超几何分布的正态近似进行检验:\n",
    "\n",
    "$$\n",
    "\\mathrm{Z}=\\frac{A-\\frac{m t}{m+n}}{\\sqrt{\\frac{m n t(m+n-t)}{(m+n)^{3}}}} \\stackrel{\\mathcal{L}}{\\rightarrow} \\mathrm{N}(0,1)\n",
    "$$\n",
    "\n",
    "小样本时, 也可以使用连续性修正:\n",
    "\n",
    "$$\n",
    "\\mathrm{Z}=\\frac{A \\pm 0.5-\\frac{m t}{m+n}}{\\sqrt{\\frac{m n t(m+n-t)}{(m+n)^{3}}}} \\stackrel{\\mathcal{L}}{\\rightarrow} \\mathrm{N}(0,1)\n",
    "$$"
   ]
  },
  {
   "cell_type": "code",
   "execution_count": 12,
   "id": "ccaa18e9",
   "metadata": {
    "vscode": {
     "languageId": "r"
    }
   },
   "outputs": [],
   "source": [
    "# Brown - Mood检验 任意Q分位数 函数\n",
    "BMq.test = function(x,y,q,alt){\n",
    "    xy = c(x,y)\n",
    "    quantile.xy = quantile(xy,q)\n",
    "    t = sum(xy>quantile.xy)\n",
    "    lx = length(x[x!=quantile.xy])\n",
    "    ly = length(y[y!=quantile.xy])\n",
    "    lxy = lx+ly\n",
    "    A = sum(x>quantile.xy) # 检验统计量A\n",
    "    z = (A-lx*t/(lx+ly))/(lx*ly*t*(lx+ly-t)/(lx+ly)^3)^0.5\n",
    "    # 正态近似时的标准化统计量\n",
    "    if(A>(min(lx,t)/2)){\n",
    "        z1 = (A+0.5-lx*t/(lx+ly))/(lx*ly*t*(lx+ly-t)/(lx+ly)^3)^0.5 # 连续性修正后正态近似时的标准化统计量\n",
    "    }\n",
    "    else {\n",
    "       z1 = (A-0.5-lx*t/(lx+ly))/(lx*ly*t*(lx+ly-t)/(lx+ly)^3)^0.5\n",
    "    }\n",
    "    if(alt == 'greater'){\n",
    "        pv1 = 1-phyper(A,lx,ly,t) # 精确P值\n",
    "        pv2 = 1-pnorm(z) # 正态近似P值\n",
    "        pv3 = 1-pnorm(z1) # 连续性修正后正态近似p值\n",
    "    }\n",
    "    if(alt == 'less'){\n",
    "        pv1 = phyper(A,lx,ly,t) # 精确P值\n",
    "        pv2 = pnorm(z) # 正态近似P值\n",
    "        pv3 = pnorm(z1) # 连续性修正后正态近似p值\n",
    "    } \n",
    "    if(alt == 'two.sized'){\n",
    "        pv1 = 2*min(1-phyper(A,lx,ly,t),phyper(A,lx,ly,t))\n",
    "        pv2 = 2*min(1-pnorm(z),pnorm(z))\n",
    "        pv3 = 2*min(1-pnorm(z1),pnorm(z1))\n",
    "    }\n",
    "    conting.table = matrix(c(A,lx-A,lx,t-A,ly-(t-A),ly,t,lxy-t,lxy),3,3) # 计数表\n",
    "    col.name = c('X','Y','X+Y')\n",
    "    row.name = c('>MQXY','<MQXY','TOTAL')\n",
    "    dimnames(conting.table) = list(row.name,col.name)\n",
    "    print(list(continency.table = conting.table,p.value = pv1,pvnorm = pv2,pvnr = pv3))\n",
    "}"
   ]
  },
  {
   "cell_type": "code",
   "execution_count": 22,
   "id": "ab282745",
   "metadata": {
    "vscode": {
     "languageId": "r"
    }
   },
   "outputs": [
    {
     "name": "stdout",
     "output_type": "stream",
     "text": [
      "$continency.table\n",
      "      X Y X+Y\n",
      ">MQXY 4 7  11\n",
      "<MQXY 4 0   4\n",
      "TOTAL 8 7  15\n",
      "\n",
      "$p.value\n",
      "[1] 0.1025641\n",
      "\n",
      "$pvnorm\n",
      "[1] 0.02891399\n",
      "\n",
      "$pvnr\n",
      "[1] 0.005608499\n",
      "\n"
     ]
    }
   ],
   "source": [
    "# 应用函数检验0.25分位点\n",
    "BMq.test(a,b,0.25,'two.sized')"
   ]
  },
  {
   "cell_type": "code",
   "execution_count": 23,
   "id": "dfea68b5",
   "metadata": {
    "vscode": {
     "languageId": "r"
    }
   },
   "outputs": [
    {
     "name": "stdout",
     "output_type": "stream",
     "text": [
      "$continency.table\n",
      "      X Y X+Y\n",
      ">MQXY 1 3   4\n",
      "<MQXY 8 4  12\n",
      "TOTAL 9 7  16\n",
      "\n",
      "$p.value\n",
      "[1] 0.3846154\n",
      "\n",
      "$pvnorm\n",
      "[1] 0.1457285\n",
      "\n",
      "$pvnr\n",
      "[1] 0.04168008\n",
      "\n"
     ]
    }
   ],
   "source": [
    "# 应用函数检验0.75分位点\n",
    "BMq.test(a,b,0.75,'two.sized')"
   ]
  },
  {
   "cell_type": "code",
   "execution_count": 17,
   "id": "679a9f84",
   "metadata": {
    "vscode": {
     "languageId": "r"
    }
   },
   "outputs": [
    {
     "data": {
      "image/png": "[encoded data removed]",
      "text/plain": [
       "Plot with title \"Kernel Density\""
      ]
     },
     "metadata": {
      "image/png": {
       "height": 420,
       "width": 420
      }
     },
     "output_type": "display_data"
    }
   ],
   "source": [
    "# 最后画出两组数据的核密度估计图\n",
    "plot(density(a),main = 'Kernel Density',lwd = 2,xlim = c(0,25))\n",
    "lines(density(b),lwd = 2,lty = 2)\n",
    "legend('topright',legend = c('a','b'),lty = c(1,2),lwd = c(2,2))"
   ]
  },
  {
   "cell_type": "markdown",
   "id": "dec022af",
   "metadata": {},
   "source": [
    "**（2、4）结果分析**\n",
    "\n",
    "检验0.25分位点时，P值为0.1025641>0.05；正态近似检验的P值为0.02891399<0.05；连续修正检验的P值为0.005608499<0.05.\n",
    "\n",
    "检验0.75分位点时，P值为0.3846154>0.05；正态近似检验的P值为0.1457285>0.05；连续修正检验的P值为0.04168008<0.05.\n",
    "\n",
    "可以看到，精确P值均大于0.05，不能拒绝原假设，认为两个样本25%和75%的分位数没有显著性不同。虽然正态近似和连续性修正后的P值都比较小，但是本例样本的数据量过小，精确分布P值更为可信。因而最终我们认为两组数据的分布的25%和75%的分位数在统计上是相同的。根据画出的核密度估计图，可以含明显的看到两组数据的25%和75%的分位数较为接近。"
   ]
  },
  {
   "cell_type": "markdown",
   "id": "12e56d0e",
   "metadata": {},
   "source": [
    "# 3.3"
   ]
  },
  {
   "cell_type": "markdown",
   "id": "cfa4cc80",
   "metadata": {},
   "source": [
    "**（1）给出实验的零假设**\n",
    "\n",
    "由于我们想研究在人际关系处理方面受过训练的保险代理人是否会给潜在顾客留下好的印象，出于谨慎性的原则，将在人际关系处理方面受过训练的保险代理人不会给潜在顾客留下好的印象作为原假设。结合题目可知，训练组代表接受人际关系训练的群体，控制组代表没有接受训练的群体，如果train组a的得分水平显著高于control组b的得分水平，则说明支持备择假设。相应地，原假设的含义为train组a的得分水平低于或等于control组b的得分水平，即：\n",
    "\n",
    "$$ H_{0}\\colon M_{a}\\leq M_{b}\\quad H_{1}\\colon M_{a}\\gt M_{b} $$"
   ]
  },
  {
   "cell_type": "markdown",
   "id": "3c10d4aa",
   "metadata": {},
   "source": [
    "**（2）画出表现这些数据特点的曲线图**"
   ]
  },
  {
   "cell_type": "code",
   "execution_count": 40,
   "id": "2682d77a",
   "metadata": {
    "vscode": {
     "languageId": "r"
    }
   },
   "outputs": [
    {
     "data": {
      "image/png": "[encoded data removed]",
      "text/plain": [
       "plot without title"
      ]
     },
     "metadata": {
      "image/png": {
       "height": 420,
       "width": 420
      }
     },
     "output_type": "display_data"
    }
   ],
   "source": [
    "a = c(18,15,9,10,14,16,11,13,19,20,6)\n",
    "b = c(12,13,9,8,1,2,7,5,3,2,4)\n",
    "\n",
    "par(mfrow=c(1,2))\n",
    "plot(seq(length(a)),a,'o')\n",
    "plot(seq(length(b)),b,'o')"
   ]
  },
  {
   "cell_type": "markdown",
   "id": "d70cac0e",
   "metadata": {},
   "source": [
    "可以看到，a组的得分大约在10-20范围内，b组的得分大约在0-10范围内。\n",
    "\n",
    "**（3）分析这些数据用哪种检验方法最合适**\n",
    "\n",
    "我们希望比较两组总体的位置参数是否相同。绘制数据的直方图可以看到，两个总体的分布不服从正态分布，不能用参数检验方法；且没有类似的形状，也不是对称的，不能用MWM检验和秩和检验方法。因此综上所述，我们可以使用BM检验对数据的中位数进行检验。"
   ]
  },
  {
   "cell_type": "code",
   "execution_count": 33,
   "id": "26019cd6",
   "metadata": {
    "vscode": {
     "languageId": "r"
    }
   },
   "outputs": [
    {
     "data": {
      "image/png": "[encoded data removed]",
      "text/plain": [
       "Plot with title \"Histogram of b\""
      ]
     },
     "metadata": {
      "image/png": {
       "height": 420,
       "width": 420
      }
     },
     "output_type": "display_data"
    }
   ],
   "source": [
    "par(mfrow=c(1,2))\n",
    "hist(a)\n",
    "hist(b)"
   ]
  },
  {
   "cell_type": "markdown",
   "id": "79ae3ff8",
   "metadata": {},
   "source": [
    "\n",
    "**（4）使用BM检验对数据进行检验**"
   ]
  },
  {
   "cell_type": "code",
   "execution_count": 41,
   "id": "c835747c",
   "metadata": {
    "vscode": {
     "languageId": "r"
    }
   },
   "outputs": [
    {
     "name": "stdout",
     "output_type": "stream",
     "text": [
      "$continency.table\n",
      "       X  Y X+Y\n",
      ">MQXY  9  2  11\n",
      "<MQXY  2  9  11\n",
      "TOTAL 11 11  22\n",
      "\n",
      "$p.value\n",
      "[1] 0.0003458873\n",
      "\n",
      "$pvnorm\n",
      "[1] 0.002837545\n",
      "\n",
      "$pvnr\n",
      "[1] 0.0006467491\n",
      "\n"
     ]
    }
   ],
   "source": [
    "BMq.test(a,b,0.5,'two.sized')"
   ]
  },
  {
   "cell_type": "markdown",
   "id": "f312921c",
   "metadata": {},
   "source": [
    "**（5）解释数据**\n",
    "\n",
    "由于我们的备择假设是B组的得分大于A组的得分，而精确分布的检验p值远远小于显着性水平alpha = 0.05，因而拒绝原假设，认为train组a的得分水平显著高于control组b的得分水平，即在人际关系处理方面受过训练的保险代理人会给潜在顾客留下好的印象。\n",
    "\n",
    "由于p值非常小，因此我们有理由拒绝原假设而接受备择假设。但是由于数据过少，是小样本数据，偶然性过大，难以对真实情况做出可靠的统计推断。样本大小大于30时，检验的效果最好。"
   ]
  },
  {
   "cell_type": "markdown",
   "id": "495a7db1",
   "metadata": {},
   "source": [
    "# 3.4"
   ]
  },
  {
   "cell_type": "code",
   "execution_count": 19,
   "id": "23fca7eb",
   "metadata": {
    "vscode": {
     "languageId": "r"
    }
   },
   "outputs": [
    {
     "data": {
      "image/png": "[encoded data removed]",
      "text/plain": [
       "Plot with title \"Histogram of b\""
      ]
     },
     "metadata": {
      "image/png": {
       "height": 420,
       "width": 420
      }
     },
     "output_type": "display_data"
    }
   ],
   "source": [
    "# 绘图观察\n",
    "a = c(321,266,256,386,330,329,303,334,299,221,365,250,258,342,243,298,238,317)\n",
    "b = c(488,593,507,428,807,342,512,350,672,589,665,549,451,492,514,391,366,469)\n",
    "par(mfrow=c(2,2))\n",
    "plot(seq(length(a)),a,'o')\n",
    "plot(seq(length(b)),b,'o')\n",
    "hist(a)\n",
    "hist(b)"
   ]
  },
  {
   "cell_type": "markdown",
   "id": "a447b46b",
   "metadata": {},
   "source": [
    "通过观察数据的直方图和点线图，可以发现，两个样本具有相似的分布，类似正态分布。而A学院的课时量约在250-350之间，B学院的课时量约在400-800之间，平均情况相差较大。"
   ]
  },
  {
   "cell_type": "code",
   "execution_count": 7,
   "id": "3237f9ff",
   "metadata": {
    "vscode": {
     "languageId": "r"
    }
   },
   "outputs": [
    {
     "data": {
      "text/plain": [
       "\n",
       "\tOne-sample Kolmogorov-Smirnov test\n",
       "\n",
       "data:  a\n",
       "D = 0.13775, p-value = 0.8393\n",
       "alternative hypothesis: two-sided\n"
      ]
     },
     "metadata": {},
     "output_type": "display_data"
    },
    {
     "data": {
      "text/plain": [
       "\n",
       "\tOne-sample Kolmogorov-Smirnov test\n",
       "\n",
       "data:  b\n",
       "D = 0.15453, p-value = 0.7272\n",
       "alternative hypothesis: two-sided\n"
      ]
     },
     "metadata": {},
     "output_type": "display_data"
    }
   ],
   "source": [
    "# 正态分布检验\n",
    "ks.test(a,pnorm,mean(a),sd(a))\n",
    "ks.test(b,pnorm,mean(b),sd(b))"
   ]
  },
  {
   "cell_type": "markdown",
   "id": "e6f8a09a",
   "metadata": {},
   "source": [
    "P值均大于0.05，不能拒绝原假设，即不能认为数据不服从正态分布。"
   ]
  },
  {
   "cell_type": "code",
   "execution_count": 10,
   "id": "42ce029d",
   "metadata": {
    "vscode": {
     "languageId": "r"
    }
   },
   "outputs": [
    {
     "data": {
      "text/plain": [
       "\n",
       "\tWelch Two Sample t-test\n",
       "\n",
       "data:  a and b\n",
       "t = -6.8841, df = 21.916, p-value = 6.637e-07\n",
       "alternative hypothesis: true difference in means is not equal to 0\n",
       "95 percent confidence interval:\n",
       " -276.8201 -148.6243\n",
       "sample estimates:\n",
       "mean of x mean of y \n",
       " 297.5556  510.2778 \n"
      ]
     },
     "metadata": {},
     "output_type": "display_data"
    }
   ],
   "source": [
    "# 均值t检验\n",
    "t.test(a,b)"
   ]
  },
  {
   "cell_type": "markdown",
   "id": "25a4128c",
   "metadata": {},
   "source": [
    "根据两样本均值t检验的结果，P值远小于0.05，由于备择假设是两个样本的总体均值不同，故拒绝原假设，接受备择假设，认为两个样本的总体的平均水平不同。"
   ]
  },
  {
   "cell_type": "code",
   "execution_count": 13,
   "id": "5d9c980a",
   "metadata": {
    "vscode": {
     "languageId": "r"
    }
   },
   "outputs": [
    {
     "name": "stdout",
     "output_type": "stream",
     "text": [
      "$continency.table\n",
      "       X  Y X+Y\n",
      ">MQXY  2 16  18\n",
      "<MQXY 16  2  18\n",
      "TOTAL 18 18  36\n",
      "\n",
      "$p.value\n",
      "[1] 5.230556e-06\n",
      "\n",
      "$pvnorm\n",
      "[1] 3.061253e-06\n",
      "\n",
      "$pvnr\n",
      "[1] 5.733031e-07\n",
      "\n"
     ]
    }
   ],
   "source": [
    "# 中位数BM检验\n",
    "BMq.test(a,b,0.5,'two.sized')"
   ]
  },
  {
   "cell_type": "markdown",
   "id": "e255cef2",
   "metadata": {},
   "source": [
    "根据BM检验的结果，精确分布、正态近似、小样本修正的P值均远远小于0.05，因而拒绝原假设，认为两个样本的总体的中位数显著不同。"
   ]
  },
  {
   "cell_type": "code",
   "execution_count": 23,
   "id": "98b5ac52",
   "metadata": {
    "vscode": {
     "languageId": "r"
    }
   },
   "outputs": [
    {
     "data": {
      "text/plain": [
       "\n",
       "\tMood two-sample test of scale\n",
       "\n",
       "data:  a and b1\n",
       "Z = -2.3727, p-value = 0.01766\n",
       "alternative hypothesis: two.sided\n"
      ]
     },
     "metadata": {},
     "output_type": "display_data"
    },
    {
     "data": {
      "text/html": [
       "FALSE"
      ],
      "text/latex": [
       "FALSE"
      ],
      "text/markdown": [
       "FALSE"
      ],
      "text/plain": [
       "[1] FALSE"
      ]
     },
     "metadata": {},
     "output_type": "display_data"
    }
   ],
   "source": [
    "# 方差一致检验\n",
    "diff = median(a)-median(b)\n",
    "b1 = b+diff\n",
    "mood.test(a,b1)\n",
    "\n",
    "sd(a)>sd(b)"
   ]
  },
  {
   "cell_type": "markdown",
   "id": "e51f4ab2",
   "metadata": {},
   "source": [
    "P值小于0.05，拒绝原假设，即认为两组数据的方差显著不相同。"
   ]
  },
  {
   "cell_type": "markdown",
   "id": "11f0f415",
   "metadata": {},
   "source": [
    "综上分析，两个学院的课时量水平相差很大，不论是平均值还是中位数都显著不同，其中B学院的课时量较多。并且，两个学院的课时量方差并不相似，即认为教授完成讲课任务的情况并不相似。A的方差更小，说明B学院的教师讲课情况的课时量差距比较大。"
   ]
  },
  {
   "cell_type": "markdown",
   "id": "688d89f3",
   "metadata": {},
   "source": [
    "# 3.5"
   ]
  },
  {
   "cell_type": "markdown",
   "id": "18f272e2",
   "metadata": {},
   "source": [
    "**（1）Mood检验**"
   ]
  },
  {
   "cell_type": "markdown",
   "id": "4152d7ca",
   "metadata": {},
   "source": [
    "\n",
    "Mood 检验法假设两位置参数相等。在检验之前首先应该将两组数据的位置参数调整到相同。有两组来自不同分布 $\\mathrm{F}\\left(\\frac{\\mathrm{x}}{\\sigma_{1}}\\right)$ 和 $\\mathrm{F}\\left(\\frac{\\mathrm{x}}{\\sigma_{2}}\\right)$ 的相互独立的样本 $X$ 和 $\\mathrm{Y}$, 我们检验的问题是\n",
    "\n",
    "$$\n",
    "H_{0}: \\sigma_{1}^{2}=\\sigma_{2}^{2} \\quad H_{1}: \\sigma_{1}^{2} \\neq \\sigma_{2}^{2}\n",
    "$$\n",
    "\n",
    "当零假设成立时, 对 $X$ 样本来说，考虑秩检验统计量\n",
    "\n",
    "$$\n",
    "\\mathrm{M}=\\sum_{i=1}^{m}\\left(R_{i}-\\frac{m+n+1}{2}\\right)^{2}\n",
    "$$\n",
    "\n",
    "如果它的值偏大，则 $X$ 的方差也可能偏大。在零假设下, $M$ 的分布可以由秩的分布性质得出."
   ]
  },
  {
   "cell_type": "code",
   "execution_count": 7,
   "id": "588e4a34",
   "metadata": {
    "vscode": {
     "languageId": "r"
    }
   },
   "outputs": [
    {
     "data": {
      "text/plain": [
       "\n",
       "\tMood two-sample test of scale\n",
       "\n",
       "data:  a and b1\n",
       "Z = -1.5502, p-value = 0.1211\n",
       "alternative hypothesis: two.sided\n"
      ]
     },
     "metadata": {},
     "output_type": "display_data"
    }
   ],
   "source": [
    "a = c(8.8,8.2,5.6,4.9,8.9,4.2,3.6,7.1,5.5,8.6,6.3,3.9)\n",
    "b = c(13.0,14.5,16.5,22.8,20.7,19.6,18.4,21.3,24.2,19.6,11.7,18.9,14.6,19.8,14.5)\n",
    "diff = median(a)-median(b)\n",
    "b1 = b+diff\n",
    "mood.test(a,b1)"
   ]
  },
  {
   "cell_type": "markdown",
   "id": "cda160b9",
   "metadata": {},
   "source": [
    "根据结果，P值=0.1211>0.05，不能拒绝原假设，即认为两样本的总体的方差不存在差异，即两块土壤的有机质含量的内部变异性没有差异。"
   ]
  },
  {
   "cell_type": "markdown",
   "id": "0fe09678",
   "metadata": {},
   "source": [
    "**（2）Moses检验**"
   ]
  },
  {
   "cell_type": "markdown",
   "id": "625c6584",
   "metadata": {},
   "source": [
    "Moses 检验无需事先假设两分布的位置参数相等。其对问题的假设是:\n",
    "\n",
    "Moses 检验法的统计值 $T$ 求法如下:\n",
    "\n",
    "$$\n",
    "H_{0}: \\sigma_{1}^{2}=\\sigma_{2}^{2} \\quad H_{1}: \\sigma_{1}^{2} \\neq \\sigma_{2}^{2}\n",
    "$$\n",
    "\n",
    "(1) 将两样本各分成几组, 样本 1 随机分成 $m_{1}$ 个组, 样本 2 随机分成 $m_{2}$ 个组, 每组含 $k$ 个观测值\n",
    "\n",
    "(2) 分别求各小组的样本离差平方和 $S S A_{r}$ 和 $S S B_{S}$\n",
    "\n",
    "(3) 将两样本各小组的平方和 $S S A_{r}$ 和 $S S B_{s}$ 混合，排序按大小定秩\n",
    "\n",
    "(4) 计算第 1 组样本的 $m_{1}$ 组平方和的秩和, 用 $S$ 表示, 则统计量 $T_{M}$ 为\n",
    "\n",
    "$$\n",
    "T_{M}=S-\\frac{m_{1}\\left(m_{1}+1\\right)}{2}\n",
    "$$\n",
    "\n",
    "如果两组数据的方差存在很大的差异, 从平均来看, 一组数据的平方和会比另一组数据的平方和小。因此, 如果 $T_{M}<$ $W_{0.025, m_{1}, m_{2}}$, 则不能拒绝 $H_{1}$, 反之则接受 $H_{0}$"
   ]
  },
  {
   "cell_type": "code",
   "execution_count": 17,
   "id": "92c908da",
   "metadata": {
    "vscode": {
     "languageId": "r"
    }
   },
   "outputs": [
    {
     "data": {
      "text/plain": [
       "\n",
       "\tWilcoxon rank sum exact test\n",
       "\n",
       "data:  result$x.VR and result$y.VR\n",
       "W = 2, p-value = 0.06349\n",
       "alternative hypothesis: true location shift is not equal to 0\n"
      ]
     },
     "metadata": {},
     "output_type": "display_data"
    }
   ],
   "source": [
    "VarRank = function(x,y,K=3)\n",
    "{\n",
    "  m1 = floor(length(x)/K)\n",
    "  m2 = floor(length(y)/K)\n",
    "  x.VR = c()\n",
    "  y.VR = c()\n",
    "  x.temp = x\n",
    "  y.temp = y\n",
    "  for (r in 1:m1){\n",
    "    x.index = sample(1:length(x.temp),K)\n",
    "    x.VR = c(x.VR,var(x.temp[x.index])*(K-1))\n",
    "    x.temp = x.temp[-x.index]\n",
    "  }\n",
    "  for (s in 1:m2){\n",
    "    y.index = sample(1:length(y.temp),K)\n",
    "    y.VR = c(y.VR,var(y.temp[y.index])*(K-1))\n",
    "    y.temp = y.temp[-y.index]\n",
    "  }\n",
    "  return(list(x.VR=x.VR,y.VR=y.VR))\n",
    "}\n",
    "result = VarRank(a,b)\n",
    "wilcox.test(result$x.VR,result$y.VR)"
   ]
  },
  {
   "cell_type": "code",
   "execution_count": 18,
   "id": "4c014463",
   "metadata": {
    "vscode": {
     "languageId": "r"
    }
   },
   "outputs": [
    {
     "data": {
      "text/plain": [
       "\n",
       "\tWilcoxon rank sum exact test\n",
       "\n",
       "data:  result$x.VR and result$y.VR\n",
       "W = 1, p-value = 0.6667\n",
       "alternative hypothesis: true location shift is not equal to 0\n"
      ]
     },
     "metadata": {},
     "output_type": "display_data"
    }
   ],
   "source": [
    "# 改变分组数量，验证结果的稳定性\n",
    "result = VarRank(a,b,K = 6)\n",
    "wilcox.test(result$x.VR,result$y.VR)"
   ]
  },
  {
   "cell_type": "markdown",
   "id": "7bc8872e",
   "metadata": {},
   "source": [
    "根据结果可知，P值均大于0.05，不能拒绝原假设，即认为两个土壤的内部变异性没有显著的差距。"
   ]
  },
  {
   "cell_type": "markdown",
   "id": "56c25f8b",
   "metadata": {},
   "source": [
    "我们还可以使用R语言自带的包进行检验。以下是官方文档的描述：\n",
    "MosesTest: Moses Test of Extreme Reactions\n",
    "\n",
    "**Description**\n",
    "\n",
    "Perform Moses test of extreme reactions, which is a distribution-free non-parametric test for the difference between two independent groups in the extremity of scores (in both directions) that the groups contain. Scores from both groups are pooled and converted to ranks, and the test statistic is the span of scores (the range plus 1) in one of the groups chosen arbitrarily. An exact probability is computed for the span and then recomputed after dropping a specified number of extreme scores from each end of its range. The exact one-tailed probability is calculated.\n",
    "\n",
    "可以看到，这种方法为计算精确的概率，在从其范围的每一端删除指定数量的极值分数后重新计算。这是和前面的方法不同的。"
   ]
  },
  {
   "cell_type": "code",
   "execution_count": null,
   "id": "83920369",
   "metadata": {
    "vscode": {
     "languageId": "r"
    }
   },
   "outputs": [
    {
     "data": {
      "text/plain": [
       "\n",
       "\tMoses Test of Extreme Reactions\n",
       "\n",
       "data:  a and b\n",
       "S = 17, p-value = 0.1368\n",
       "alternative hypothesis: extreme values are more likely in x than in y\n"
      ]
     },
     "metadata": {},
     "output_type": "display_data"
    }
   ],
   "source": [
    "# install.packages('DescTools')\n",
    "library(DescTools)\n",
    "MosesTest(a, b)"
   ]
  },
  {
   "cell_type": "markdown",
   "id": "939efc0a",
   "metadata": {},
   "source": [
    "P值大于0.05，而备择假设认为A的变异性大于B的变异性，我们不能拒绝原假设，因此仍然认为两个土壤的有机质含量的内部变异性相差无几。"
   ]
  }
 ],
 "metadata": {
  "kernelspec": {
   "display_name": "R",
   "language": "R",
   "name": "ir"
  },
  "language_info": {
   "codemirror_mode": "r",
   "file_extension": ".r",
   "mimetype": "text/x-r-source",
   "name": "R",
   "pygments_lexer": "r",
   "version": "4.1.3"
  }
 },
 "nbformat": 4,
 "nbformat_minor": 5
}

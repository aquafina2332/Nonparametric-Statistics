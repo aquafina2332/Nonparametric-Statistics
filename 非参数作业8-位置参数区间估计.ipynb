{
 "cells": [
  {
   "cell_type": "markdown",
   "id": "a1b7f892",
   "metadata": {},
   "source": [
    "## <center><font face=\"STCAIYUN\" color=LightSeaGreen>作业：自己找一个数据计算单组数据的位置参数置信区间估计</font>"
   ]
  },
  {
   "cell_type": "markdown",
   "id": "19035bb8",
   "metadata": {},
   "source": [
    "### 数据描述\n",
    "内房股，顾名思义，就是内资房地产股，在内地经营且已经上市的房地产公司（的股票），在股票大盘和股评中常常会使用到。\n",
    "本数据来源于通达信，数据获取日期为2021.8.9，共130行观测值，主要指标有股票代码、企业名称、股票现价、所属细分行业、股票上市日期、H股市值(亿)、总资产(亿)、流通市值(亿)和总市值(亿)，其中股票现价、H股市值、总资产、流通市值和总市值均是连续型数值变量，其余是分类变量。"
   ]
  },
  {
   "cell_type": "markdown",
   "id": "c66c92ac",
   "metadata": {},
   "source": [
    "### 分析方法\n",
    "顺序统计量的中位数置信区间、对称分布中用Walsh平均法求解置信区间；基于方差估计法的正态置信区间估计、枢轴量置信区间估计、分位数置信区间估计(95%)"
   ]
  },
  {
   "cell_type": "markdown",
   "id": "a01ecb77",
   "metadata": {},
   "source": [
    "### 实验内容\n",
    "（1）计算出2021年内房股数据中**H股**和**总资产**两个变量的中位数置信区间\n",
    "\n",
    "（2）观察用不同方法所得到的中位数区间的异同，进而比较不同计算方法的优劣"
   ]
  },
  {
   "cell_type": "markdown",
   "id": "9b4b30f6",
   "metadata": {},
   "source": [
    "### 分析过程"
   ]
  },
  {
   "cell_type": "code",
   "execution_count": 1,
   "id": "99f9d026",
   "metadata": {
    "vscode": {
     "languageId": "r"
    }
   },
   "outputs": [
    {
     "data": {
      "text/html": [
       "<table class=\"dataframe\">\n",
       "<caption>A tibble: 6 × 9</caption>\n",
       "<thead>\n",
       "\t<tr><th scope=col>代码</th><th scope=col>名称</th><th scope=col>现价</th><th scope=col>细分行业</th><th scope=col>上市日期</th><th scope=col>H股</th><th scope=col>总资产</th><th scope=col>流通市值</th><th scope=col>总市值</th></tr>\n",
       "\t<tr><th scope=col>&lt;dbl&gt;</th><th scope=col>&lt;chr&gt;</th><th scope=col>&lt;dbl&gt;</th><th scope=col>&lt;chr&gt;</th><th scope=col>&lt;dbl&gt;</th><th scope=col>&lt;dbl&gt;</th><th scope=col>&lt;dbl&gt;</th><th scope=col>&lt;chr&gt;</th><th scope=col>&lt;chr&gt;</th></tr>\n",
       "</thead>\n",
       "<tbody>\n",
       "\t<tr><td> 28</td><td>天安        </td><td> 4.470</td><td>地产</td><td>19870318</td><td>14.80</td><td>426.21</td><td>66.16</td><td>66.16</td></tr>\n",
       "\t<tr><td> 29</td><td>达力集团    </td><td>12.200</td><td>地产</td><td>19800104</td><td> 2.38</td><td> 26.61</td><td>29.00</td><td>29.00</td></tr>\n",
       "\t<tr><td> 59</td><td>天誉置业    </td><td> 0.890</td><td>地产</td><td>19931116</td><td>84.46</td><td>290.62</td><td>75.17</td><td>75.17</td></tr>\n",
       "\t<tr><td> 95</td><td>绿景中国地产</td><td> 1.830</td><td>地产</td><td>20051202</td><td>50.98</td><td>742.67</td><td>93.29</td><td>93.29</td></tr>\n",
       "\t<tr><td>106</td><td>朗诗地产    </td><td> 0.435</td><td>地产</td><td>19860324</td><td>47.22</td><td>247.01</td><td>20.54</td><td>20.54</td></tr>\n",
       "\t<tr><td>108</td><td>国锐地产    </td><td> 1.010</td><td>地产</td><td>19730209</td><td>31.99</td><td> 67.02</td><td>32.31</td><td>32.31</td></tr>\n",
       "</tbody>\n",
       "</table>\n"
      ],
      "text/latex": [
       "A tibble: 6 × 9\n",
       "\\begin{tabular}{lllllllll}\n",
       " 代码 & 名称 & 现价 & 细分行业 & 上市日期 & H股 & 总资产 & 流通市值 & 总市值\\\\\n",
       " <dbl> & <chr> & <dbl> & <chr> & <dbl> & <dbl> & <dbl> & <chr> & <chr>\\\\\n",
       "\\hline\n",
       "\t  28 & 天安         &  4.470 & 地产 & 19870318 & 14.80 & 426.21 & 66.16 & 66.16\\\\\n",
       "\t  29 & 达力集团     & 12.200 & 地产 & 19800104 &  2.38 &  26.61 & 29.00 & 29.00\\\\\n",
       "\t  59 & 天誉置业     &  0.890 & 地产 & 19931116 & 84.46 & 290.62 & 75.17 & 75.17\\\\\n",
       "\t  95 & 绿景中国地产 &  1.830 & 地产 & 20051202 & 50.98 & 742.67 & 93.29 & 93.29\\\\\n",
       "\t 106 & 朗诗地产     &  0.435 & 地产 & 19860324 & 47.22 & 247.01 & 20.54 & 20.54\\\\\n",
       "\t 108 & 国锐地产     &  1.010 & 地产 & 19730209 & 31.99 &  67.02 & 32.31 & 32.31\\\\\n",
       "\\end{tabular}\n"
      ],
      "text/markdown": [
       "\n",
       "A tibble: 6 × 9\n",
       "\n",
       "| 代码 &lt;dbl&gt; | 名称 &lt;chr&gt; | 现价 &lt;dbl&gt; | 细分行业 &lt;chr&gt; | 上市日期 &lt;dbl&gt; | H股 &lt;dbl&gt; | 总资产 &lt;dbl&gt; | 流通市值 &lt;chr&gt; | 总市值 &lt;chr&gt; |\n",
       "|---|---|---|---|---|---|---|---|---|\n",
       "|  28 | 天安         |  4.470 | 地产 | 19870318 | 14.80 | 426.21 | 66.16 | 66.16 |\n",
       "|  29 | 达力集团     | 12.200 | 地产 | 19800104 |  2.38 |  26.61 | 29.00 | 29.00 |\n",
       "|  59 | 天誉置业     |  0.890 | 地产 | 19931116 | 84.46 | 290.62 | 75.17 | 75.17 |\n",
       "|  95 | 绿景中国地产 |  1.830 | 地产 | 20051202 | 50.98 | 742.67 | 93.29 | 93.29 |\n",
       "| 106 | 朗诗地产     |  0.435 | 地产 | 19860324 | 47.22 | 247.01 | 20.54 | 20.54 |\n",
       "| 108 | 国锐地产     |  1.010 | 地产 | 19730209 | 31.99 |  67.02 | 32.31 | 32.31 |\n",
       "\n"
      ],
      "text/plain": [
       "  代码 名称         现价   细分行业 上市日期 H股   总资产 流通市值 总市值\n",
       "1  28  天安          4.470 地产     19870318 14.80 426.21 66.16    66.16 \n",
       "2  29  达力集团     12.200 地产     19800104  2.38  26.61 29.00    29.00 \n",
       "3  59  天誉置业      0.890 地产     19931116 84.46 290.62 75.17    75.17 \n",
       "4  95  绿景中国地产  1.830 地产     20051202 50.98 742.67 93.29    93.29 \n",
       "5 106  朗诗地产      0.435 地产     19860324 47.22 247.01 20.54    20.54 \n",
       "6 108  国锐地产      1.010 地产     19730209 31.99  67.02 32.31    32.31 "
      ]
     },
     "metadata": {},
     "output_type": "display_data"
    }
   ],
   "source": [
    "# 读入数据\n",
    "library(MASS)\n",
    "library(readxl)\n",
    "library(stringr)\n",
    "data = read_excel('D://nonparametric//各章数据//2021港股内地房地产股票.xlsx')\n",
    "head(data)"
   ]
  },
  {
   "cell_type": "code",
   "execution_count": 63,
   "id": "4e8437c2",
   "metadata": {
    "vscode": {
     "languageId": "r"
    }
   },
   "outputs": [
    {
     "name": "stdout",
     "output_type": "stream",
     "text": [
      "[1] \"真实的中位数：1.92\"\n",
      "[1] \"置信区间：(1.49 , 2.48)\"\n"
     ]
    }
   ],
   "source": [
    "# 顺序统计量的中位数置信区间\n",
    "dta = data$现价\n",
    "alpha = 0.05\n",
    "n = length(dta)\n",
    "conf = pbinom(n,n,0.5)-pbinom(0,n,0.5)\n",
    "for (k in 1:n){\n",
    "    conf = pbinom(n-k,n,0.5)-pbinom(k-1,n,0.5)\n",
    "    if (conf<1-alpha){\n",
    "        loc = k-1\n",
    "        break\n",
    "    }\n",
    "}\n",
    "\n",
    "dta.sort = sort(dta) \n",
    "low = dta.sort[loc+1]\n",
    "up = dta.sort[n-loc]\n",
    "dta.median = median(dta)\n",
    "print(sprintf('真实的中位数：%0.2f',dta.median))\n",
    "print(sprintf('置信区间：(%0.2f , %0.2f)',low,up))"
   ]
  },
  {
   "cell_type": "code",
   "execution_count": 40,
   "id": "6bc2ca17",
   "metadata": {
    "vscode": {
     "languageId": "r"
    }
   },
   "outputs": [
    {
     "name": "stderr",
     "output_type": "stream",
     "text": [
      "Warning message in ks.test(dta, pnorm, mean(dta), sd(dta)):\n",
      "\"ties should not be present for the Kolmogorov-Smirnov test\"\n"
     ]
    },
    {
     "data": {
      "text/plain": [
       "\n",
       "\tOne-sample Kolmogorov-Smirnov test\n",
       "\n",
       "data:  dta\n",
       "D = 0.25125, p-value = 1.49e-07\n",
       "alternative hypothesis: two-sided\n"
      ]
     },
     "metadata": {},
     "output_type": "display_data"
    },
    {
     "name": "stdout",
     "output_type": "stream",
     "text": [
      "[1] \"真实的中位数：1.92\"\n",
      "[1] \"置信区间：(2.63 , 2.78)\"\n"
     ]
    },
    {
     "data": {
      "image/png": "[encoded data removed]",
      "text/plain": [
       "Plot with title \"density.default(x = dta)\""
      ]
     },
     "metadata": {
      "image/png": {
       "height": 420,
       "width": 420
      }
     },
     "output_type": "display_data"
    }
   ],
   "source": [
    "# 对称分布中用Walsh平均法求解置信区间\n",
    "plot(density(dta)) # 画图\n",
    "ks.test(dta,pnorm,mean(dta),sd(dta)) # 正态分布检验\n",
    "\n",
    "walsh = NULL\n",
    "for (i in 1:n){\n",
    "    for (j in i:n){\n",
    "        walsh = c(walsh,(dta[i]+dta[j])/2)\n",
    "    }\n",
    "}\n",
    "nn = length(walsh)\n",
    "for (k in seq(1,nn/2,1)){\n",
    "    F = pbinom(nn-k,nn,0.5) - pbinom(k-1,nn,0.5)\n",
    "    if (F<1-alpha){\n",
    "        loc2 = k-1\n",
    "        break\n",
    "    }\n",
    "}\n",
    "\n",
    "walsh.sort = sort(walsh) \n",
    "low1 = walsh.sort[loc2+1]\n",
    "up1 = walsh.sort[nn-loc2]\n",
    "print(sprintf('真实的中位数：%0.2f',dta.median))\n",
    "print(sprintf('置信区间：(%0.2f , %0.2f)',low1,up1))"
   ]
  },
  {
   "cell_type": "code",
   "execution_count": 52,
   "id": "273b2768",
   "metadata": {
    "vscode": {
     "languageId": "r"
    }
   },
   "outputs": [
    {
     "data": {
      "image/png": "[encoded data removed]",
      "text/plain": [
       "plot without title"
      ]
     },
     "metadata": {
      "image/png": {
       "height": 420,
       "width": 420
      }
     },
     "output_type": "display_data"
    },
    {
     "name": "stdout",
     "output_type": "stream",
     "text": [
      "[1] \"真实的中位数：1.92\"\n",
      "[1] \"置信区间：(0.57 , 3.27)\"\n"
     ]
    },
    {
     "data": {
      "image/png": "[encoded data removed]",
      "text/plain": [
       "Plot with title \"Histogram of TBoot\""
      ]
     },
     "metadata": {
      "image/png": {
       "height": 420,
       "width": 420
      }
     },
     "output_type": "display_data"
    }
   ],
   "source": [
    "# 基于方差估计法的正态置信区间估计\n",
    "# 使用bootstrap方法对中位数进行重抽样\n",
    "TBoot = NULL\n",
    "n = 30 # 每次bootstrap的样本量\n",
    "B = 1000 # 次数\n",
    "SD.dta = NULL\n",
    "for (i in 1:B){\n",
    "    Xsample = sample(dta, n, T)\n",
    "    Tboot = median(Xsample)\n",
    "    TBoot = c(TBoot,Tboot)\n",
    "    SD.dta = c(SD.dta,sd(TBoot))\n",
    "}\n",
    "SD.median.dta = sd(TBoot)\n",
    "plot(1:B,SD.dta,col = 4) # 可以看到标准差大概是0.65\n",
    "hist(TBoot, col = 3) # 中位数的估计抽样分布的右偏分布\n",
    "\n",
    "\n",
    "low2 = dta.median+qnorm(alpha/2,0,1)* SD.median.dta\n",
    "up2 = dta.median-qnorm(alpha/2,0,1)* SD.median.dta\n",
    "print(sprintf('真实的中位数：%0.2f',dta.median))\n",
    "print(sprintf('置信区间：(%0.2f , %0.2f)',low2,up2))"
   ]
  },
  {
   "cell_type": "code",
   "execution_count": 53,
   "id": "b255519b",
   "metadata": {
    "vscode": {
     "languageId": "r"
    }
   },
   "outputs": [
    {
     "name": "stdout",
     "output_type": "stream",
     "text": [
      "[1] \"真实的中位数：1.92\"\n",
      "[1] \"置信区间：(-0.07 , 3.00)\"\n"
     ]
    }
   ],
   "source": [
    "# 枢轴量置信区间估计\n",
    "low3 = 2*dta.median-quantile(TBoot,1-alpha/2)\n",
    "up3 = 2*dta.median-quantile(TBoot,alpha/2)\n",
    "print(sprintf('真实的中位数：%0.2f',dta.median))\n",
    "print(sprintf('置信区间：(%0.2f , %0.2f)',low3,up3))"
   ]
  },
  {
   "cell_type": "code",
   "execution_count": 54,
   "id": "0101c6f6",
   "metadata": {
    "vscode": {
     "languageId": "r"
    }
   },
   "outputs": [
    {
     "name": "stdout",
     "output_type": "stream",
     "text": [
      "[1] \"真实的中位数：1.92\"\n",
      "[1] \"置信区间：(0.84 , 3.91)\"\n"
     ]
    }
   ],
   "source": [
    "# 分位数置信区间估计\n",
    "low4 = quantile(TBoot,alpha/2)\n",
    "up4 = quantile(TBoot,1-alpha/2)\n",
    "print(sprintf('真实的中位数：%0.2f',dta.median))\n",
    "print(sprintf('置信区间：(%0.2f , %0.2f)',low4,up4))"
   ]
  },
  {
   "cell_type": "code",
   "execution_count": 65,
   "id": "bcd03c35",
   "metadata": {
    "vscode": {
     "languageId": "r"
    }
   },
   "outputs": [
    {
     "name": "stdout",
     "output_type": "stream",
     "text": [
      "[1] \"| 真实的中位数 |     1.92    |\"\n",
      "[1] \"| 顺序统计量法 |(1.49 , 2.48)|\"\n",
      "[1] \"| 沃什平均值法 |(2.63 , 2.78)|\"\n",
      "[1] \"| 重采样正态法 |(0.57 , 3.27)|\"\n",
      "[1] \"| 重采样枢轴量 |(-0.07, 3.00)|\"\n",
      "[1] \"| 重采样分位数 |(0.84 , 3.91)|\"\n"
     ]
    }
   ],
   "source": [
    "# 结果汇总\n",
    "print(sprintf('| 真实的中位数 |     %0.2f    |',dta.median))\n",
    "print(sprintf('| 顺序统计量法 |(%0.2f , %0.2f)|',low,up))\n",
    "print(sprintf('| 沃什平均值法 |(%0.2f , %0.2f)|',low1,up1))\n",
    "print(sprintf('| 重采样正态法 |(%0.2f , %0.2f)|',low2,up2))\n",
    "print(sprintf('| 重采样枢轴量 |(%0.2f, %0.2f)|',low3,up3))\n",
    "print(sprintf('| 重采样分位数 |(%0.2f , %0.2f)|',low4,up4))"
   ]
  },
  {
   "cell_type": "code",
   "execution_count": 61,
   "id": "14b93cdb",
   "metadata": {
    "vscode": {
     "languageId": "r"
    }
   },
   "outputs": [
    {
     "name": "stdout",
     "output_type": "stream",
     "text": [
      "\n",
      "\tOne-sample Kolmogorov-Smirnov test\n",
      "\n",
      "data:  dta\n",
      "D = 0.25382, p-value = 1.062e-07\n",
      "alternative hypothesis: two-sided\n",
      "\n"
     ]
    },
    {
     "data": {
      "image/png": "[encoded data removed]",
      "text/plain": [
       "Plot with title \"density.default(x = dta)\""
      ]
     },
     "metadata": {
      "image/png": {
       "height": 420,
       "width": 420
      }
     },
     "output_type": "display_data"
    },
    {
     "data": {
      "image/png": "[encoded data removed]",
      "text/plain": [
       "plot without title"
      ]
     },
     "metadata": {
      "image/png": {
       "height": 420,
       "width": 420
      }
     },
     "output_type": "display_data"
    },
    {
     "name": "stdout",
     "output_type": "stream",
     "text": [
      "[1] \"| 真实的中位数 |     31.34    |\"\n",
      "[1] \"| 顺序统计量法 |(24.94, 37.13)|\"\n",
      "[1] \"| 沃什平均值法 |(35.70, 37.18)|\"\n",
      "[1] \"| 重采样正态法 |(17.54, 45.13)|\"\n",
      "[1] \"| 重采样枢轴量 |(16.61, 44.46)|\"\n",
      "[1] \"| 重采样分位数 |(18.21, 46.06)|\"\n"
     ]
    },
    {
     "data": {
      "image/png": "[encoded data removed]",
      "text/plain": [
       "Plot with title \"Histogram of TBoot\""
      ]
     },
     "metadata": {
      "image/png": {
       "height": 420,
       "width": 420
      }
     },
     "output_type": "display_data"
    }
   ],
   "source": [
    "# 编写函数\n",
    "zhixinqujia = function(data, x, alpha = 0.05){\n",
    "    # 读入数据\n",
    "    dta = as.numeric(unlist(data[,x]))\n",
    "\n",
    "    # 顺序统计量的中位数置信区间\n",
    "    n = length(dta)\n",
    "    conf = pbinom(n,n,0.5)-pbinom(0,n,0.5)\n",
    "    for (k in 1:n){\n",
    "        conf = pbinom(n-k,n,0.5)-pbinom(k-1,n,0.5)\n",
    "        if (conf<1-alpha){\n",
    "            loc = k-1\n",
    "            break\n",
    "        }\n",
    "    }\n",
    "\n",
    "    dta.sort = sort(dta) \n",
    "    low = dta.sort[loc+1]\n",
    "    up = dta.sort[n-loc]\n",
    "    dta.median = median(dta)\n",
    "\n",
    "    # 对称分布中用Walsh平均法求解置信区间\n",
    "    plot(density(dta)) # 画图\n",
    "    kks = ks.test(dta,pnorm,mean(dta),sd(dta)) # 正态分布检验\n",
    "    print(kks)\n",
    "\n",
    "    walsh = NULL\n",
    "    for (i in 1:n){\n",
    "        for (j in i:n){\n",
    "            walsh = c(walsh,(dta[i]+dta[j])/2)\n",
    "        }\n",
    "    }\n",
    "    nn = length(walsh)\n",
    "    for (k in seq(1,nn/2,1)){\n",
    "        F = pbinom(nn-k,nn,0.5) - pbinom(k-1,nn,0.5)\n",
    "        if (F<1-alpha){\n",
    "            loc2 = k-1\n",
    "            break\n",
    "        }\n",
    "    }\n",
    "\n",
    "    walsh.sort = sort(walsh) \n",
    "    low1 = walsh.sort[loc2+1]\n",
    "    up1 = walsh.sort[nn-loc2]\n",
    "\n",
    "    # 使用bootstrap方法对中位数进行重抽样\n",
    "    TBoot = NULL\n",
    "    n = 30 # 每次bootstrap的样本量\n",
    "    B = 1000 # 次数\n",
    "    SD.dta = NULL\n",
    "    for (i in 1:B){\n",
    "        Xsample = sample(dta, n, T)\n",
    "        Tboot = median(Xsample)\n",
    "        TBoot = c(TBoot,Tboot)\n",
    "        SD.dta = c(SD.dta,sd(TBoot))\n",
    "    }\n",
    "    SD.median.dta = sd(TBoot)\n",
    "    plot(1:B,SD.dta,col = 4) # 可以看到标准差大概是0.65\n",
    "    hist(TBoot, col = 3) # 中位数的估计抽样分布的右偏分布\n",
    "\n",
    "\n",
    "    low2 = dta.median+qnorm(alpha/2,0,1)* SD.median.dta\n",
    "    up2 = dta.median-qnorm(alpha/2,0,1)* SD.median.dta\n",
    "\n",
    "    # 枢轴量置信区间估计\n",
    "    low3 = 2*dta.median-quantile(TBoot,1-alpha/2)\n",
    "    up3 = 2*dta.median-quantile(TBoot,alpha/2)\n",
    "\n",
    "    # 分位数置信区间估计\n",
    "    low4 = quantile(TBoot,alpha/2)\n",
    "    up4 = quantile(TBoot,1-alpha/2)\n",
    "\n",
    "    # 结果汇总\n",
    "    print(sprintf('| 真实的中位数 |     %0.2f    |',dta.median))\n",
    "    print(sprintf('| 顺序统计量法 |(%0.2f, %0.2f)|',low,up))\n",
    "    print(sprintf('| 沃什平均值法 |(%0.2f, %0.2f)|',low1,up1))\n",
    "    print(sprintf('| 重采样正态法 |(%0.2f, %0.2f)|',low2,up2))\n",
    "    print(sprintf('| 重采样枢轴量 |(%0.2f, %0.2f)|',low3,up3))\n",
    "    print(sprintf('| 重采样分位数 |(%0.2f, %0.2f)|',low4,up4))\n",
    "}\n",
    "\n",
    "zhixinqujia(data,\"H股\")"
   ]
  },
  {
   "cell_type": "markdown",
   "id": "ba2af19d",
   "metadata": {},
   "source": [
    "### 结论\n",
    "在五种中位数的置信区间的计算方法中，可以看到顺序统计量的分位数置信区间的精度最高，walsh平均法仅仅在较为严格的对称分布中才会显示出较高的精度；而在自助重采样方法中，枢轴量法的结果较其他两种更为精确。\n",
    "\n",
    "进一步我们可以应用函数，对其他的数值型变量计算五种置信区间，或者更改置信水平alpha，观察计算方法是否robust以及alpha能否对walsh平均法的结果产生影响。"
   ]
  }
 ],
 "metadata": {
  "kernelspec": {
   "display_name": "R",
   "language": "R",
   "name": "ir"
  },
  "language_info": {
   "codemirror_mode": "r",
   "file_extension": ".r",
   "mimetype": "text/x-r-source",
   "name": "R",
   "pygments_lexer": "r",
   "version": "4.1.3"
  }
 },
 "nbformat": 4,
 "nbformat_minor": 5
}

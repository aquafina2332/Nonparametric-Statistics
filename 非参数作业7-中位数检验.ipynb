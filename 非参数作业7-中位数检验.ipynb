{
 "cells": [
  {
   "cell_type": "markdown",
   "id": "a1b7f892",
   "metadata": {},
   "source": [
    "## <center><font face=\"STCAIYUN\" color=LightSeaGreen>作业：自己找一个数据做中位数检验</font>"
   ]
  },
  {
   "cell_type": "markdown",
   "id": "19035bb8",
   "metadata": {},
   "source": [
    "### 数据描述\n",
    "内房股，顾名思义，就是内资房地产股，在内地经营且已经上市的房地产公司（的股票），在股票大盘和股评中常常会使用到。\n",
    "本数据来源于通达信，数据获取日期为2021.8.9，共130行观测值，主要指标有股票代码、企业名称、股票现价、所属细分行业、股票上市日期、H股市值(亿)、总资产(亿)、流通市值(亿)和总市值(亿)，其中股票现价、H股市值、总资产、流通市值和总市值均是连续型数值变量，其余是分类变量。"
   ]
  },
  {
   "cell_type": "markdown",
   "id": "c66c92ac",
   "metadata": {},
   "source": [
    "### 分析方法\n",
    "符号检验、wilcoxon符号秩检验"
   ]
  },
  {
   "cell_type": "markdown",
   "id": "a01ecb77",
   "metadata": {},
   "source": [
    "### 实验内容\n",
    "（1）计算出2021年内房股数据中各变量的中位数（均值）\n",
    "\n",
    "（2）用检验方法检验所得到的中位数是否显著，进而比较不同检验方法的优劣"
   ]
  },
  {
   "cell_type": "markdown",
   "id": "9b4b30f6",
   "metadata": {},
   "source": [
    "### 分析过程"
   ]
  },
  {
   "cell_type": "code",
   "execution_count": 29,
   "id": "99f9d026",
   "metadata": {
    "vscode": {
     "languageId": "r"
    }
   },
   "outputs": [
    {
     "data": {
      "text/html": [
       "<table class=\"dataframe\">\n",
       "<caption>A tibble: 6 × 9</caption>\n",
       "<thead>\n",
       "\t<tr><th scope=col>代码</th><th scope=col>名称</th><th scope=col>现价</th><th scope=col>细分行业</th><th scope=col>上市日期</th><th scope=col>H股</th><th scope=col>总资产</th><th scope=col>流通市值</th><th scope=col>总市值</th></tr>\n",
       "\t<tr><th scope=col>&lt;dbl&gt;</th><th scope=col>&lt;chr&gt;</th><th scope=col>&lt;dbl&gt;</th><th scope=col>&lt;chr&gt;</th><th scope=col>&lt;dbl&gt;</th><th scope=col>&lt;dbl&gt;</th><th scope=col>&lt;dbl&gt;</th><th scope=col>&lt;chr&gt;</th><th scope=col>&lt;chr&gt;</th></tr>\n",
       "</thead>\n",
       "<tbody>\n",
       "\t<tr><td> 28</td><td>天安        </td><td> 4.470</td><td>地产</td><td>19870318</td><td>14.80</td><td>426.21</td><td>66.16</td><td>66.16</td></tr>\n",
       "\t<tr><td> 29</td><td>达力集团    </td><td>12.200</td><td>地产</td><td>19800104</td><td> 2.38</td><td> 26.61</td><td>29.00</td><td>29.00</td></tr>\n",
       "\t<tr><td> 59</td><td>天誉置业    </td><td> 0.890</td><td>地产</td><td>19931116</td><td>84.46</td><td>290.62</td><td>75.17</td><td>75.17</td></tr>\n",
       "\t<tr><td> 95</td><td>绿景中国地产</td><td> 1.830</td><td>地产</td><td>20051202</td><td>50.98</td><td>742.67</td><td>93.29</td><td>93.29</td></tr>\n",
       "\t<tr><td>106</td><td>朗诗地产    </td><td> 0.435</td><td>地产</td><td>19860324</td><td>47.22</td><td>247.01</td><td>20.54</td><td>20.54</td></tr>\n",
       "\t<tr><td>108</td><td>国锐地产    </td><td> 1.010</td><td>地产</td><td>19730209</td><td>31.99</td><td> 67.02</td><td>32.31</td><td>32.31</td></tr>\n",
       "</tbody>\n",
       "</table>\n"
      ],
      "text/latex": [
       "A tibble: 6 × 9\n",
       "\\begin{tabular}{lllllllll}\n",
       " 代码 & 名称 & 现价 & 细分行业 & 上市日期 & H股 & 总资产 & 流通市值 & 总市值\\\\\n",
       " <dbl> & <chr> & <dbl> & <chr> & <dbl> & <dbl> & <dbl> & <chr> & <chr>\\\\\n",
       "\\hline\n",
       "\t  28 & 天安         &  4.470 & 地产 & 19870318 & 14.80 & 426.21 & 66.16 & 66.16\\\\\n",
       "\t  29 & 达力集团     & 12.200 & 地产 & 19800104 &  2.38 &  26.61 & 29.00 & 29.00\\\\\n",
       "\t  59 & 天誉置业     &  0.890 & 地产 & 19931116 & 84.46 & 290.62 & 75.17 & 75.17\\\\\n",
       "\t  95 & 绿景中国地产 &  1.830 & 地产 & 20051202 & 50.98 & 742.67 & 93.29 & 93.29\\\\\n",
       "\t 106 & 朗诗地产     &  0.435 & 地产 & 19860324 & 47.22 & 247.01 & 20.54 & 20.54\\\\\n",
       "\t 108 & 国锐地产     &  1.010 & 地产 & 19730209 & 31.99 &  67.02 & 32.31 & 32.31\\\\\n",
       "\\end{tabular}\n"
      ],
      "text/markdown": [
       "\n",
       "A tibble: 6 × 9\n",
       "\n",
       "| 代码 &lt;dbl&gt; | 名称 &lt;chr&gt; | 现价 &lt;dbl&gt; | 细分行业 &lt;chr&gt; | 上市日期 &lt;dbl&gt; | H股 &lt;dbl&gt; | 总资产 &lt;dbl&gt; | 流通市值 &lt;chr&gt; | 总市值 &lt;chr&gt; |\n",
       "|---|---|---|---|---|---|---|---|---|\n",
       "|  28 | 天安         |  4.470 | 地产 | 19870318 | 14.80 | 426.21 | 66.16 | 66.16 |\n",
       "|  29 | 达力集团     | 12.200 | 地产 | 19800104 |  2.38 |  26.61 | 29.00 | 29.00 |\n",
       "|  59 | 天誉置业     |  0.890 | 地产 | 19931116 | 84.46 | 290.62 | 75.17 | 75.17 |\n",
       "|  95 | 绿景中国地产 |  1.830 | 地产 | 20051202 | 50.98 | 742.67 | 93.29 | 93.29 |\n",
       "| 106 | 朗诗地产     |  0.435 | 地产 | 19860324 | 47.22 | 247.01 | 20.54 | 20.54 |\n",
       "| 108 | 国锐地产     |  1.010 | 地产 | 19730209 | 31.99 |  67.02 | 32.31 | 32.31 |\n",
       "\n"
      ],
      "text/plain": [
       "  代码 名称         现价   细分行业 上市日期 H股   总资产 流通市值 总市值\n",
       "1  28  天安          4.470 地产     19870318 14.80 426.21 66.16    66.16 \n",
       "2  29  达力集团     12.200 地产     19800104  2.38  26.61 29.00    29.00 \n",
       "3  59  天誉置业      0.890 地产     19931116 84.46 290.62 75.17    75.17 \n",
       "4  95  绿景中国地产  1.830 地产     20051202 50.98 742.67 93.29    93.29 \n",
       "5 106  朗诗地产      0.435 地产     19860324 47.22 247.01 20.54    20.54 \n",
       "6 108  国锐地产      1.010 地产     19730209 31.99  67.02 32.31    32.31 "
      ]
     },
     "metadata": {},
     "output_type": "display_data"
    }
   ],
   "source": [
    "library(MASS)\n",
    "library(readxl)\n",
    "library(stringr)\n",
    "data = read_excel('D://nonparametric//各章数据//2021港股内地房地产股票.xlsx')\n",
    "head(data)"
   ]
  },
  {
   "cell_type": "code",
   "execution_count": 2,
   "id": "5dae5a71",
   "metadata": {
    "vscode": {
     "languageId": "r"
    }
   },
   "outputs": [
    {
     "data": {
      "text/plain": [
       "\n",
       "\tExact binomial test\n",
       "\n",
       "data:  k and n\n",
       "number of successes = 65, number of trials = 130, p-value = 1\n",
       "alternative hypothesis: true probability of success is not equal to 0.5\n",
       "95 percent confidence interval:\n",
       " 0.4110838 0.5889162\n",
       "sample estimates:\n",
       "probability of success \n",
       "                   0.5 \n"
      ]
     },
     "metadata": {},
     "output_type": "display_data"
    },
    {
     "data": {
      "text/plain": [
       "\n",
       "\tWilcoxon signed rank test with continuity correction\n",
       "\n",
       "data:  data$现价 - 现价.median\n",
       "V = 5336.5, p-value = 0.01221\n",
       "alternative hypothesis: true location is not equal to 0\n"
      ]
     },
     "metadata": {},
     "output_type": "display_data"
    },
    {
     "name": "stderr",
     "output_type": "stream",
     "text": [
      "Warning message in ks.test(data$现价, pnorm, mean(data$现价), sd(data$现价)):\n",
      "\"ties should not be present for the Kolmogorov-Smirnov test\"\n"
     ]
    },
    {
     "data": {
      "text/plain": [
       "\n",
       "\tOne-sample Kolmogorov-Smirnov test\n",
       "\n",
       "data:  data$现价\n",
       "D = 0.25125, p-value = 1.49e-07\n",
       "alternative hypothesis: two-sided\n"
      ]
     },
     "metadata": {},
     "output_type": "display_data"
    },
    {
     "data": {
      "image/png": "[encoded data removed]",
      "text/plain": [
       "Plot with title \"density.default(x = data$现价)\""
      ]
     },
     "metadata": {
      "image/png": {
       "height": 420,
       "width": 420
      }
     },
     "output_type": "display_data"
    }
   ],
   "source": [
    "# 以现价为例\n",
    "attach(data)\n",
    "现价.median = median(data$现价)\n",
    "splus = sum(data$现价>现价.median)\n",
    "sminus = sum(data$现价<现价.median)\n",
    "k = min(sminus,splus)\n",
    "n = splus+sminus\n",
    "binom.test(k,n,0.5) # 符号检验\n",
    "wilcox.test(data$现价-现价.median) # wilcoxon\n",
    "plot(density(data$现价))\n",
    "ks.test(data$现价,pnorm,mean(data$现价),sd(data$现价)) # 正态分布检验"
   ]
  },
  {
   "cell_type": "markdown",
   "id": "e84e819f",
   "metadata": {},
   "source": [
    "符号检验和wilcoxon检验的p值分别为1和0.01221，所得结果差别很大，同时根据正态分布检验和图表，认为数据也不服从正态分布。\n",
    "\n",
    "下面用同样的方法处理其他几个变量。"
   ]
  },
  {
   "cell_type": "code",
   "execution_count": 69,
   "id": "25abfb93",
   "metadata": {
    "vscode": {
     "languageId": "r"
    }
   },
   "outputs": [
    {
     "name": "stdout",
     "output_type": "stream",
     "text": [
      "\n",
      "\tExact binomial test\n",
      "\n",
      "data:  k and n\n",
      "number of successes = 65, number of trials = 130, p-value = 1\n",
      "alternative hypothesis: true probability of success is not equal to 0.5\n",
      "95 percent confidence interval:\n",
      " 0.4110838 0.5889162\n",
      "sample estimates:\n",
      "probability of success \n",
      "                   0.5 \n",
      "\n",
      "\n",
      "\tWilcoxon signed rank test with continuity correction\n",
      "\n",
      "data:  dat - x.median\n",
      "V = 4926, p-value = 0.1206\n",
      "alternative hypothesis: true location is not equal to 0\n",
      "\n",
      "\n",
      "\tOne-sample Kolmogorov-Smirnov test\n",
      "\n",
      "data:  dat\n",
      "D = 0.25382, p-value = 1.062e-07\n",
      "alternative hypothesis: two-sided\n",
      "\n"
     ]
    },
    {
     "data": {
      "image/png": "[encoded data removed]",
      "text/plain": [
       "Plot with title \"density.default(x = dat)\""
      ]
     },
     "metadata": {
      "image/png": {
       "height": 420,
       "width": 420
      }
     },
     "output_type": "display_data"
    }
   ],
   "source": [
    "jianyan = function(data,x){\n",
    "\n",
    "    dat = as.numeric(unlist(data[,x]))\n",
    "    x.median = median(dat)\n",
    "    splus = sum(dat>x.median)\n",
    "    sminus = sum(dat<x.median)\n",
    "    k = min(sminus,splus)\n",
    "    n = splus+sminus\n",
    "    fh = binom.test(k,n,0.5) # 符号检验\n",
    "    wil = wilcox.test(dat-x.median) # wilcoxon\n",
    "    plot(density(dat))\n",
    "    kks = ks.test(dat,pnorm,mean(dat),sd(dat)) # 正态分布检验\n",
    "    print(fh)\n",
    "    print(wil)\n",
    "    print(kks)\n",
    "}\n",
    "\n",
    "x1 = \"H股\"\n",
    "x2 = \"总资产\"\n",
    "x3 = \"流通市值\"\n",
    "x4 = \"总市值\"\n",
    "\n",
    "jianyan(data,x1) # H股"
   ]
  },
  {
   "cell_type": "code",
   "execution_count": 70,
   "id": "165fd87d",
   "metadata": {
    "vscode": {
     "languageId": "r"
    }
   },
   "outputs": [
    {
     "name": "stdout",
     "output_type": "stream",
     "text": [
      "\n",
      "\tExact binomial test\n",
      "\n",
      "data:  k and n\n",
      "number of successes = 65, number of trials = 130, p-value = 1\n",
      "alternative hypothesis: true probability of success is not equal to 0.5\n",
      "95 percent confidence interval:\n",
      " 0.4110838 0.5889162\n",
      "sample estimates:\n",
      "probability of success \n",
      "                   0.5 \n",
      "\n",
      "\n",
      "\tWilcoxon signed rank test with continuity correction\n",
      "\n",
      "data:  dat - x.median\n",
      "V = 5406.5, p-value = 0.007613\n",
      "alternative hypothesis: true location is not equal to 0\n",
      "\n",
      "\n",
      "\tOne-sample Kolmogorov-Smirnov test\n",
      "\n",
      "data:  dat\n",
      "D = 0.3187, p-value = 6.794e-12\n",
      "alternative hypothesis: two-sided\n",
      "\n"
     ]
    },
    {
     "data": {
      "image/png": "[encoded data removed]",
      "text/plain": [
       "Plot with title \"density.default(x = dat)\""
      ]
     },
     "metadata": {
      "image/png": {
       "height": 420,
       "width": 420
      }
     },
     "output_type": "display_data"
    }
   ],
   "source": [
    "jianyan(data,x2) # 总资产"
   ]
  },
  {
   "cell_type": "code",
   "execution_count": 71,
   "id": "a3e4db75",
   "metadata": {
    "vscode": {
     "languageId": "r"
    }
   },
   "outputs": [
    {
     "name": "stderr",
     "output_type": "stream",
     "text": [
      "Warning message in ks.test(dat, pnorm, mean(dat), sd(dat)):\n",
      "\"ties should not be present for the Kolmogorov-Smirnov test\"\n"
     ]
    },
    {
     "name": "stdout",
     "output_type": "stream",
     "text": [
      "\n",
      "\tExact binomial test\n",
      "\n",
      "data:  k and n\n",
      "number of successes = 65, number of trials = 130, p-value = 1\n",
      "alternative hypothesis: true probability of success is not equal to 0.5\n",
      "95 percent confidence interval:\n",
      " 0.4110838 0.5889162\n",
      "sample estimates:\n",
      "probability of success \n",
      "                   0.5 \n",
      "\n",
      "\n",
      "\tWilcoxon signed rank test with continuity correction\n",
      "\n",
      "data:  dat - x.median\n",
      "V = 5428, p-value = 0.006554\n",
      "alternative hypothesis: true location is not equal to 0\n",
      "\n",
      "\n",
      "\tOne-sample Kolmogorov-Smirnov test\n",
      "\n",
      "data:  dat\n",
      "D = 0.32917, p-value = 1.165e-12\n",
      "alternative hypothesis: two-sided\n",
      "\n"
     ]
    },
    {
     "data": {
      "image/png": "[encoded data removed]",
      "text/plain": [
       "Plot with title \"density.default(x = dat)\""
      ]
     },
     "metadata": {
      "image/png": {
       "height": 420,
       "width": 420
      }
     },
     "output_type": "display_data"
    }
   ],
   "source": [
    "jianyan(data,x3) # 流通市值"
   ]
  },
  {
   "cell_type": "code",
   "execution_count": 72,
   "id": "d0a911f8",
   "metadata": {
    "vscode": {
     "languageId": "r"
    }
   },
   "outputs": [
    {
     "name": "stderr",
     "output_type": "stream",
     "text": [
      "Warning message in ks.test(dat, pnorm, mean(dat), sd(dat)):\n",
      "\"ties should not be present for the Kolmogorov-Smirnov test\"\n"
     ]
    },
    {
     "name": "stdout",
     "output_type": "stream",
     "text": [
      "\n",
      "\tExact binomial test\n",
      "\n",
      "data:  k and n\n",
      "number of successes = 65, number of trials = 130, p-value = 1\n",
      "alternative hypothesis: true probability of success is not equal to 0.5\n",
      "95 percent confidence interval:\n",
      " 0.4110838 0.5889162\n",
      "sample estimates:\n",
      "probability of success \n",
      "                   0.5 \n",
      "\n",
      "\n",
      "\tWilcoxon signed rank test with continuity correction\n",
      "\n",
      "data:  dat - x.median\n",
      "V = 5475, p-value = 0.004685\n",
      "alternative hypothesis: true location is not equal to 0\n",
      "\n",
      "\n",
      "\tOne-sample Kolmogorov-Smirnov test\n",
      "\n",
      "data:  dat\n",
      "D = 0.33115, p-value = 8.296e-13\n",
      "alternative hypothesis: two-sided\n",
      "\n"
     ]
    },
    {
     "data": {
      "image/png": "[encoded data removed]",
      "text/plain": [
       "Plot with title \"density.default(x = dat)\""
      ]
     },
     "metadata": {
      "image/png": {
       "height": 420,
       "width": 420
      }
     },
     "output_type": "display_data"
    }
   ],
   "source": [
    "jianyan(data,x4) # 总市值"
   ]
  },
  {
   "cell_type": "markdown",
   "id": "ed4b4d49",
   "metadata": {},
   "source": [
    "### 结论\n",
    "我们发现这五个变量都不服从正态分布，所有变量在符号检验中不显著，在wilcoxon检验中显著，这表明wilcoxon比符号检验利用的信息更多，但是使用wilcoxon的前提是假设总体分布具有对称性，如果对称性不成立，则符号检验的结果更准确。"
   ]
  }
 ],
 "metadata": {
  "kernelspec": {
   "display_name": "R",
   "language": "R",
   "name": "ir"
  },
  "language_info": {
   "codemirror_mode": "r",
   "file_extension": ".r",
   "mimetype": "text/x-r-source",
   "name": "R",
   "pygments_lexer": "r",
   "version": "4.1.3"
  }
 },
 "nbformat": 4,
 "nbformat_minor": 5
}
